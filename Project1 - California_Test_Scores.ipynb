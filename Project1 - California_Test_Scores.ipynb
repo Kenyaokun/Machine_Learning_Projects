{
 "cells": [
  {
   "cell_type": "markdown",
   "id": "6db9bd1a",
   "metadata": {},
   "source": [
    "## Regression on California Test Scores"
   ]
  },
  {
   "cell_type": "markdown",
   "id": "bb4046d7",
   "metadata": {},
   "source": [
    "1.Find the url for the California Test Score Data Set from the following website:\n",
    "https://vincentarelbundock.github.io/Rdatasets/datasets.html\n",
    "Read through the \"DOC\" file to understand the variables in the dataset, then use the following url to import the data.\n",
    "https://vincentarelbundock.github.io/Rdatasets/csv/Ecdat/Caschool.csv\n",
    "The target data (i.e. the dependent variable) is named \"testscr\". You can use all variables in the data except for \"readscr\" and \"mathscr\" in the following analysis. (These two variables were used to generate the dependent variable)."
   ]
  },
  {
   "cell_type": "code",
   "execution_count": 1,
   "id": "cd50b4a1",
   "metadata": {},
   "outputs": [
    {
     "data": {
      "text/html": [
       "<div>\n",
       "<style scoped>\n",
       "    .dataframe tbody tr th:only-of-type {\n",
       "        vertical-align: middle;\n",
       "    }\n",
       "\n",
       "    .dataframe tbody tr th {\n",
       "        vertical-align: top;\n",
       "    }\n",
       "\n",
       "    .dataframe thead th {\n",
       "        text-align: right;\n",
       "    }\n",
       "</style>\n",
       "<table border=\"1\" class=\"dataframe\">\n",
       "  <thead>\n",
       "    <tr style=\"text-align: right;\">\n",
       "      <th></th>\n",
       "      <th>Unnamed: 0</th>\n",
       "      <th>distcod</th>\n",
       "      <th>county</th>\n",
       "      <th>district</th>\n",
       "      <th>grspan</th>\n",
       "      <th>enrltot</th>\n",
       "      <th>teachers</th>\n",
       "      <th>calwpct</th>\n",
       "      <th>mealpct</th>\n",
       "      <th>computer</th>\n",
       "      <th>testscr</th>\n",
       "      <th>compstu</th>\n",
       "      <th>expnstu</th>\n",
       "      <th>str</th>\n",
       "      <th>avginc</th>\n",
       "      <th>elpct</th>\n",
       "      <th>readscr</th>\n",
       "      <th>mathscr</th>\n",
       "    </tr>\n",
       "  </thead>\n",
       "  <tbody>\n",
       "    <tr>\n",
       "      <th>0</th>\n",
       "      <td>1</td>\n",
       "      <td>75119</td>\n",
       "      <td>Alameda</td>\n",
       "      <td>Sunol Glen Unified</td>\n",
       "      <td>KK-08</td>\n",
       "      <td>195</td>\n",
       "      <td>10.900000</td>\n",
       "      <td>0.510200</td>\n",
       "      <td>2.040800</td>\n",
       "      <td>67</td>\n",
       "      <td>690.799988</td>\n",
       "      <td>0.343590</td>\n",
       "      <td>6384.911133</td>\n",
       "      <td>17.889910</td>\n",
       "      <td>22.690001</td>\n",
       "      <td>0.000000</td>\n",
       "      <td>691.599976</td>\n",
       "      <td>690.000000</td>\n",
       "    </tr>\n",
       "    <tr>\n",
       "      <th>1</th>\n",
       "      <td>2</td>\n",
       "      <td>61499</td>\n",
       "      <td>Butte</td>\n",
       "      <td>Manzanita Elementary</td>\n",
       "      <td>KK-08</td>\n",
       "      <td>240</td>\n",
       "      <td>11.150000</td>\n",
       "      <td>15.416700</td>\n",
       "      <td>47.916698</td>\n",
       "      <td>101</td>\n",
       "      <td>661.200012</td>\n",
       "      <td>0.420833</td>\n",
       "      <td>5099.380859</td>\n",
       "      <td>21.524664</td>\n",
       "      <td>9.824000</td>\n",
       "      <td>4.583333</td>\n",
       "      <td>660.500000</td>\n",
       "      <td>661.900024</td>\n",
       "    </tr>\n",
       "    <tr>\n",
       "      <th>2</th>\n",
       "      <td>3</td>\n",
       "      <td>61549</td>\n",
       "      <td>Butte</td>\n",
       "      <td>Thermalito Union Elementary</td>\n",
       "      <td>KK-08</td>\n",
       "      <td>1550</td>\n",
       "      <td>82.900002</td>\n",
       "      <td>55.032299</td>\n",
       "      <td>76.322601</td>\n",
       "      <td>169</td>\n",
       "      <td>643.599976</td>\n",
       "      <td>0.109032</td>\n",
       "      <td>5501.954590</td>\n",
       "      <td>18.697226</td>\n",
       "      <td>8.978000</td>\n",
       "      <td>30.000002</td>\n",
       "      <td>636.299988</td>\n",
       "      <td>650.900024</td>\n",
       "    </tr>\n",
       "    <tr>\n",
       "      <th>3</th>\n",
       "      <td>4</td>\n",
       "      <td>61457</td>\n",
       "      <td>Butte</td>\n",
       "      <td>Golden Feather Union Elementary</td>\n",
       "      <td>KK-08</td>\n",
       "      <td>243</td>\n",
       "      <td>14.000000</td>\n",
       "      <td>36.475399</td>\n",
       "      <td>77.049202</td>\n",
       "      <td>85</td>\n",
       "      <td>647.700012</td>\n",
       "      <td>0.349794</td>\n",
       "      <td>7101.831055</td>\n",
       "      <td>17.357143</td>\n",
       "      <td>8.978000</td>\n",
       "      <td>0.000000</td>\n",
       "      <td>651.900024</td>\n",
       "      <td>643.500000</td>\n",
       "    </tr>\n",
       "    <tr>\n",
       "      <th>4</th>\n",
       "      <td>5</td>\n",
       "      <td>61523</td>\n",
       "      <td>Butte</td>\n",
       "      <td>Palermo Union Elementary</td>\n",
       "      <td>KK-08</td>\n",
       "      <td>1335</td>\n",
       "      <td>71.500000</td>\n",
       "      <td>33.108601</td>\n",
       "      <td>78.427002</td>\n",
       "      <td>171</td>\n",
       "      <td>640.849976</td>\n",
       "      <td>0.128090</td>\n",
       "      <td>5235.987793</td>\n",
       "      <td>18.671329</td>\n",
       "      <td>9.080333</td>\n",
       "      <td>13.857677</td>\n",
       "      <td>641.799988</td>\n",
       "      <td>639.900024</td>\n",
       "    </tr>\n",
       "  </tbody>\n",
       "</table>\n",
       "</div>"
      ],
      "text/plain": [
       "   Unnamed: 0  distcod   county                         district grspan  \\\n",
       "0           1    75119  Alameda               Sunol Glen Unified  KK-08   \n",
       "1           2    61499    Butte             Manzanita Elementary  KK-08   \n",
       "2           3    61549    Butte      Thermalito Union Elementary  KK-08   \n",
       "3           4    61457    Butte  Golden Feather Union Elementary  KK-08   \n",
       "4           5    61523    Butte         Palermo Union Elementary  KK-08   \n",
       "\n",
       "   enrltot   teachers    calwpct    mealpct  computer     testscr   compstu  \\\n",
       "0      195  10.900000   0.510200   2.040800        67  690.799988  0.343590   \n",
       "1      240  11.150000  15.416700  47.916698       101  661.200012  0.420833   \n",
       "2     1550  82.900002  55.032299  76.322601       169  643.599976  0.109032   \n",
       "3      243  14.000000  36.475399  77.049202        85  647.700012  0.349794   \n",
       "4     1335  71.500000  33.108601  78.427002       171  640.849976  0.128090   \n",
       "\n",
       "       expnstu        str     avginc      elpct     readscr     mathscr  \n",
       "0  6384.911133  17.889910  22.690001   0.000000  691.599976  690.000000  \n",
       "1  5099.380859  21.524664   9.824000   4.583333  660.500000  661.900024  \n",
       "2  5501.954590  18.697226   8.978000  30.000002  636.299988  650.900024  \n",
       "3  7101.831055  17.357143   8.978000   0.000000  651.900024  643.500000  \n",
       "4  5235.987793  18.671329   9.080333  13.857677  641.799988  639.900024  "
      ]
     },
     "execution_count": 1,
     "metadata": {},
     "output_type": "execute_result"
    }
   ],
   "source": [
    "import pandas as pd\n",
    "import numpy as np\n",
    "import matplotlib.pyplot as plt\n",
    "import seaborn as sns\n",
    "import warnings\n",
    "warnings.filterwarnings(\"ignore\")\n",
    "\n",
    "df = pd.read_csv(\"https://vincentarelbundock.github.io/Rdatasets/csv/Ecdat/Caschool.csv\")\n",
    "df.head()"
   ]
  },
  {
   "cell_type": "markdown",
   "id": "24a8b5a5",
   "metadata": {},
   "source": [
    "## 1.1 Visualize the univariate distribution of the target feature and each of the three continuous explanatory variables that you think are likely to have a relationship with the target feature."
   ]
  },
  {
   "cell_type": "code",
   "execution_count": 2,
   "id": "1e57eeef",
   "metadata": {},
   "outputs": [
    {
     "data": {
      "text/plain": [
       "<AxesSubplot:ylabel='Frequency'>"
      ]
     },
     "execution_count": 2,
     "metadata": {},
     "output_type": "execute_result"
    },
    {
     "data": {
      "image/png": "[encoded data removed]",
      "text/plain": [
       "<Figure size 432x288 with 1 Axes>"
      ]
     },
     "metadata": {
      "needs_background": "light"
     },
     "output_type": "display_data"
    }
   ],
   "source": [
    "\"\"\"\n",
    "target feature: testscr(average test score (read.scr+math.scr)/2)\n",
    "calwpct: percent qualifying for CalWORKS\n",
    "mealpct: percent qualifying for reduced-price lunch\n",
    "avginc: computer per student\n",
    "\"\"\"\n",
    "new_data = df[['testscr', 'calwpct', 'mealpct', 'avginc']]\n",
    "new_data['testscr'].plot.hist()"
   ]
  },
  {
   "cell_type": "code",
   "execution_count": 3,
   "id": "dfe32061",
   "metadata": {},
   "outputs": [
    {
     "data": {
      "text/plain": [
       "<AxesSubplot:ylabel='Frequency'>"
      ]
     },
     "execution_count": 3,
     "metadata": {},
     "output_type": "execute_result"
    },
    {
     "data": {
      "image/png": "[encoded data removed]",
      "text/plain": [
       "<Figure size 432x288 with 1 Axes>"
      ]
     },
     "metadata": {
      "needs_background": "light"
     },
     "output_type": "display_data"
    }
   ],
   "source": [
    "new_data['calwpct'].plot.hist()"
   ]
  },
  {
   "cell_type": "code",
   "execution_count": 4,
   "id": "b193a577",
   "metadata": {
    "scrolled": true
   },
   "outputs": [
    {
     "data": {
      "text/plain": [
       "<AxesSubplot:ylabel='Frequency'>"
      ]
     },
     "execution_count": 4,
     "metadata": {},
     "output_type": "execute_result"
    },
    {
     "data": {
      "image/png": "[encoded data removed]",
      "text/plain": [
       "<Figure size 432x288 with 1 Axes>"
      ]
     },
     "metadata": {
      "needs_background": "light"
     },
     "output_type": "display_data"
    }
   ],
   "source": [
    "new_data['mealpct'].plot.hist()"
   ]
  },
  {
   "cell_type": "code",
   "execution_count": 5,
   "id": "8dfed634",
   "metadata": {},
   "outputs": [
    {
     "data": {
      "text/plain": [
       "<AxesSubplot:ylabel='Frequency'>"
      ]
     },
     "execution_count": 5,
     "metadata": {},
     "output_type": "execute_result"
    },
    {
     "data": {
      "image/png": "[encoded data removed]",
      "text/plain": [
       "<Figure size 432x288 with 1 Axes>"
      ]
     },
     "metadata": {
      "needs_background": "light"
     },
     "output_type": "display_data"
    }
   ],
   "source": [
    "new_data['avginc'].plot.hist()"
   ]
  },
  {
   "cell_type": "markdown",
   "id": "d01ac47e",
   "metadata": {},
   "source": [
    "## 1.2 Visualize the dependency of the target on each feature from 1.1."
   ]
  },
  {
   "cell_type": "code",
   "execution_count": 6,
   "id": "7b88b7f1",
   "metadata": {},
   "outputs": [
    {
     "data": {
      "text/plain": [
       "<AxesSubplot:xlabel='avginc', ylabel='testscr'>"
      ]
     },
     "execution_count": 6,
     "metadata": {},
     "output_type": "execute_result"
    },
    {
     "data": {
      "image/png": "[encoded data removed]",
      "text/plain": [
       "<Figure size 432x288 with 1 Axes>"
      ]
     },
     "metadata": {
      "needs_background": "light"
     },
     "output_type": "display_data"
    },
    {
     "data": {
      "image/png": "[encoded data removed]",
      "text/plain": [
       "<Figure size 432x288 with 1 Axes>"
      ]
     },
     "metadata": {
      "needs_background": "light"
     },
     "output_type": "display_data"
    },
    {
     "data": {
      "image/png": "[encoded data removed]",
      "text/plain": [
       "<Figure size 432x288 with 1 Axes>"
      ]
     },
     "metadata": {
      "needs_background": "light"
     },
     "output_type": "display_data"
    }
   ],
   "source": [
    "new_data.plot('calwpct', 'testscr', kind='scatter')\n",
    "new_data.plot('mealpct', 'testscr', kind='scatter', color='red')\n",
    "new_data.plot('avginc', 'testscr', kind='scatter', color='yellow')"
   ]
  },
  {
   "cell_type": "markdown",
   "id": "c684ed3e",
   "metadata": {},
   "source": [
    "## 1.3 Split data in training and test set. Build models that evaluate the relationship between all available X variables in the California test dataset and the target variable."
   ]
  },
  {
   "cell_type": "code",
   "execution_count": 7,
   "id": "5c4c9e81",
   "metadata": {},
   "outputs": [],
   "source": [
    "#Split data in training and test set\n",
    "from sklearn.model_selection import train_test_split\n",
    "\n",
    "y = df['testscr']\n",
    "X = df[['enrltot','teachers','calwpct','mealpct','computer','compstu','expnstu','str','avginc','elpct']]\n",
    "X_train, X_test, y_train, y_test = train_test_split(X, y, random_state = 42)"
   ]
  },
  {
   "cell_type": "markdown",
   "id": "cc337f02",
   "metadata": {},
   "source": [
    "### Evaluate KNN for regression, Linear Regression (OLS), Ridge, and Lasso using cross-validation with default parameters"
   ]
  },
  {
   "cell_type": "code",
   "execution_count": 8,
   "id": "659f663f",
   "metadata": {},
   "outputs": [],
   "source": [
    "#import needed model\n",
    "from sklearn.neighbors import KNeighborsRegressor\n",
    "from sklearn.linear_model import LinearRegression\n",
    "from sklearn.linear_model import Ridge\n",
    "from sklearn.linear_model import Lasso\n",
    "from sklearn.model_selection import cross_val_score"
   ]
  },
  {
   "cell_type": "code",
   "execution_count": 9,
   "id": "824bff07",
   "metadata": {},
   "outputs": [
    {
     "name": "stdout",
     "output_type": "stream",
     "text": [
      "KNN original score is: 0.085\n",
      "KNN cross validation score is: -0.015\n",
      "\n",
      "\n",
      "Linear regression original score is: 0.807\n",
      "Linear regression cross validation average score is: 0.738\n",
      "\n",
      "\n",
      "Ridge original score is: 0.807\n",
      "Ridge cross validation average score is: 0.741\n",
      "\n",
      "\n",
      "Lasso original score is: 0.807\n",
      "Lasso cross validation average score is: 0.753\n"
     ]
    }
   ],
   "source": [
    "#KNN \n",
    "knn = KNeighborsRegressor()\n",
    "knn.fit(X_train, y_train)\n",
    "cv_knn = cross_val_score(knn, X_test, y_test)\n",
    "print(\"KNN original score is: {:.3f}\".format(knn.score(X_test, y_test)))\n",
    "print(\"KNN cross validation score is: {:.3f}\".format(np.mean(cv_knn)))\n",
    "\n",
    "print('\\n')\n",
    "\n",
    "#Linear Regression\n",
    "lr = LinearRegression()\n",
    "lr.fit(X_train, y_train)\n",
    "cv_lr = cross_val_score(lr, X_test, y_test)\n",
    "print(\"Linear regression original score is: {:.3f}\".format(lr.score(X_test, y_test)))\n",
    "print(\"Linear regression cross validation average score is: {:.3f}\".format(np.mean(cv_lr)))\n",
    "\n",
    "print('\\n')\n",
    "\n",
    "#Ridge\n",
    "ridge = Ridge()\n",
    "ridge.fit(X_train, y_train)\n",
    "cv_ridge = cross_val_score(ridge, X_test, y_test)\n",
    "print(\"Ridge original score is: {:.3f}\".format(ridge.score(X_test, y_test)))\n",
    "print(\"Ridge cross validation average score is: {:.3f}\".format(np.mean(cv_ridge)))\n",
    "\n",
    "print('\\n')\n",
    "\n",
    "#Lasso\n",
    "lasso = Lasso()\n",
    "lasso.fit(X_train, y_train)\n",
    "cv_lasso = cross_val_score(lasso, X_test, y_test)\n",
    "print(\"Lasso original score is: {:.3f}\".format(lasso.score(X_test, y_test)))\n",
    "print(\"Lasso cross validation average score is: {:.3f}\".format(np.mean(cv_lasso)))"
   ]
  },
  {
   "cell_type": "markdown",
   "id": "3de3fb1b",
   "metadata": {},
   "source": [
    "**scaling the data with the StandardScaler**"
   ]
  },
  {
   "cell_type": "code",
   "execution_count": 10,
   "id": "fd751c11",
   "metadata": {},
   "outputs": [],
   "source": [
    "#import some preprocessing modules and standard scale the data\n",
    "from sklearn.preprocessing import StandardScaler\n",
    "from sklearn import preprocessing\n",
    "\n",
    "scaler = preprocessing.StandardScaler()\n",
    "scaler.fit(X_train) \n",
    "X_train_scaled = scaler.transform(X_train)\n",
    "X_test_scaled = scaler.transform(X_test)"
   ]
  },
  {
   "cell_type": "code",
   "execution_count": 11,
   "id": "02468e24",
   "metadata": {
    "scrolled": true
   },
   "outputs": [
    {
     "name": "stdout",
     "output_type": "stream",
     "text": [
      "KNN original score is: 0.769\n",
      "KNN cross validation average score is: 0.711\n",
      "\n",
      "\n",
      "Linear regression original score is: 0.807\n",
      "Linear regression cross validation average score is: 0.738\n",
      "\n",
      "\n",
      "Ridge original score is: 0.807\n",
      "Ridge cross validation average score is: 0.747\n",
      "\n",
      "\n",
      "Lasso original score is: 0.786\n",
      "Lasso cross validation average score is: 0.773\n"
     ]
    }
   ],
   "source": [
    "#KNN\n",
    "knn = KNeighborsRegressor()\n",
    "knn.fit(X_train_scaled, y_train)\n",
    "cv_knn = cross_val_score(knn, X_test_scaled, y_test)\n",
    "print(\"KNN original score is: {:.3f}\".format(knn.score(X_test_scaled, y_test)))\n",
    "print(\"KNN cross validation average score is: {:.3f}\".format(np.mean(cv_knn)))\n",
    "\n",
    "print('\\n')\n",
    "\n",
    "#Linear Regression\n",
    "lr = LinearRegression()\n",
    "lr.fit(X_train_scaled, y_train)\n",
    "cv_lr = cross_val_score(lr, X_test_scaled, y_test)\n",
    "print(\"Linear regression original score is: {:.3f}\".format(lr.score(X_test_scaled, y_test)))\n",
    "print(\"Linear regression cross validation average score is: {:.3f}\".format(np.mean(cv_lr)))\n",
    "\n",
    "print('\\n')\n",
    "\n",
    "#Ridge\n",
    "ridge = Ridge()\n",
    "ridge.fit(X_train_scaled, y_train)\n",
    "cv_ridge = cross_val_score(ridge, X_test_scaled, y_test)\n",
    "print(\"Ridge original score is: {:.3f}\".format(ridge.score(X_test_scaled, y_test)))\n",
    "print(\"Ridge cross validation average score is: {:.3f}\".format(np.mean(cv_ridge)))\n",
    "\n",
    "print('\\n')\n",
    "\n",
    "#Lasso\n",
    "lasso = Lasso()\n",
    "lasso.fit(X_train_scaled, y_train)\n",
    "cv_lasso = cross_val_score(lasso, X_test_scaled, y_test)\n",
    "print(\"Lasso original score is: {:.3f}\".format(lasso.score(X_test_scaled, y_test)))\n",
    "print(\"Lasso cross validation average score is: {:.3f}\".format(np.mean(cv_lasso)))"
   ]
  },
  {
   "cell_type": "markdown",
   "id": "f95fb782",
   "metadata": {},
   "source": [
    "### Does scaling the data with the StandardScaler help?"
   ]
  },
  {
   "cell_type": "markdown",
   "id": "f3245398",
   "metadata": {},
   "source": [
    "**My conclusion:**  \n",
    "1.Scaling the data with the StandardScaler **obviously helps improve** KNN Regression model accuracy for both orginal score and cross validation score from negative score to around 0.75.  \n",
    "2.Scaling the data with the StandardScaler **does not have obvious impact on** Linear Regression, Ridge or Lasso model accuracy, their score almost remain the same."
   ]
  },
  {
   "cell_type": "markdown",
   "id": "078af14a",
   "metadata": {},
   "source": [
    "## 1.4 Tune the parameters of the models where possible using GridSearchCV."
   ]
  },
  {
   "cell_type": "code",
   "execution_count": 12,
   "id": "52d162b3",
   "metadata": {},
   "outputs": [],
   "source": [
    "#import GridSearchCV\n",
    "from sklearn.model_selection import GridSearchCV"
   ]
  },
  {
   "cell_type": "code",
   "execution_count": 13,
   "id": "052cb98b",
   "metadata": {
    "scrolled": false
   },
   "outputs": [
    {
     "name": "stdout",
     "output_type": "stream",
     "text": [
      "KNN GridSearchCV original score is: 0.782\n",
      "KNN GridSearchCV cross validation average score is: 0.719\n",
      "KNN best parameter is: {'n_neighbors': 6}\n",
      "\n",
      "\n",
      "Ridge GridSearchCV original score is: 0.805\n",
      "Ridge GridSearchCV cross validation average score is: 0.756\n",
      "Ridge GridSearchCV best parameter is: {'alpha': 9}\n",
      "\n",
      "\n",
      "Lasso GridSearchCV original score is: 0.807\n",
      "Lasso GridSearchCV cross validation average score is: 0.747\n",
      "Lasso GridSearchCV best parameter is: {'alpha': 0.9}\n"
     ]
    }
   ],
   "source": [
    "#KNN\n",
    "param_grid_knn = {'n_neighbors': np.arange(1, 10, 1)}\n",
    "grid_knn = GridSearchCV(knn, param_grid_knn)\n",
    "grid_knn.fit(X_train_scaled, y_train)\n",
    "cv_knn_grid = cross_val_score(grid_knn, X_test_scaled, y_test)\n",
    "print(\"KNN GridSearchCV original score is: {:.3f}\".format(grid_knn.score(X_test_scaled, y_test)))\n",
    "print(\"KNN GridSearchCV cross validation average score is: {:.3f}\".format(np.mean(cv_knn_grid)))\n",
    "print(\"KNN best parameter is: {}\".format(grid_knn.best_params_))\n",
    "\n",
    "print('\\n')\n",
    "\n",
    "#Ridge\n",
    "param_grid_ridge = {'alpha': np.arange(1, 10, 1)}\n",
    "grid_ridge = GridSearchCV(ridge, param_grid_ridge)\n",
    "grid_ridge.fit(X_train_scaled, y_train)\n",
    "cv_ridge_grid = cross_val_score(grid_ridge, X_test_scaled, y_test)\n",
    "print(\"Ridge GridSearchCV original score is: {:.3f}\".format(grid_ridge.score(X_test_scaled, y_test)))\n",
    "print(\"Ridge GridSearchCV cross validation average score is: {:.3f}\".format(np.mean(cv_ridge_grid)))\n",
    "print(\"Ridge GridSearchCV best parameter is: {}\".format(grid_ridge.best_params_))\n",
    "\n",
    "print('\\n')\n",
    "\n",
    "#Lasso\n",
    "param_grid_lasso = {'alpha': np.arange(0.1, 1, 0.1)}\n",
    "grid_lasso = GridSearchCV(ridge, param_grid_lasso)\n",
    "grid_lasso.fit(X_train_scaled, y_train)\n",
    "cv_lasso_grid = cross_val_score(grid_lasso, X_test_scaled, y_test)\n",
    "print(\"Lasso GridSearchCV original score is: {:.3f}\".format(grid_lasso.score(X_test_scaled, y_test)))\n",
    "print(\"Lasso GridSearchCV cross validation average score is: {:.3f}\".format(np.mean(cv_lasso_grid)))\n",
    "print(\"Lasso GridSearchCV best parameter is: {}\".format(grid_lasso.best_params_))"
   ]
  },
  {
   "cell_type": "markdown",
   "id": "47ae6cc7",
   "metadata": {},
   "source": [
    "### Do the results improve?"
   ]
  },
  {
   "cell_type": "markdown",
   "id": "66335bd7",
   "metadata": {},
   "source": [
    "The results **do not improve** for all models, the scores are almost the same."
   ]
  },
  {
   "cell_type": "markdown",
   "id": "6cb5accf",
   "metadata": {},
   "source": [
    "## 1.5 Compare the coefficients of your two best linear models (not knn), do they agree on which features are important?"
   ]
  },
  {
   "cell_type": "code",
   "execution_count": 14,
   "id": "889982a5",
   "metadata": {
    "scrolled": false
   },
   "outputs": [
    {
     "name": "stdout",
     "output_type": "stream",
     "text": [
      "  Independent  Ridge_coef  Lasso_coef\n",
      "0     enrltot    0.072695   -0.000000\n",
      "1    teachers   -0.928104   -0.000000\n",
      "2     calwpct   -1.242371   -0.000000\n",
      "3     mealpct   -9.656039  -10.639962\n",
      "4    computer    0.944688   -0.000000\n",
      "5     compstu   -0.080996    0.000000\n",
      "6     expnstu    1.157061    0.458524\n",
      "7         str   -0.639715   -0.227045\n",
      "8      avginc    3.738845    3.323632\n",
      "9       elpct   -3.522555   -2.556799\n"
     ]
    }
   ],
   "source": [
    "#calculate coefficients\n",
    "independence = list(X.columns)\n",
    "ridge_coef = ridge.coef_.tolist()\n",
    "lasso_coef = lasso.coef_.tolist()\n",
    "\n",
    "coef_dic = {\"Independent\" : independence,\n",
    "            \"Ridge_coef\": ridge_coef,\n",
    "            \"Lasso_coef\": lasso_coef}\n",
    "\n",
    "coef = pd.DataFrame(coef_dic)\n",
    "print(coef)"
   ]
  },
  {
   "cell_type": "markdown",
   "id": "a2e1b360",
   "metadata": {},
   "source": [
    "My best linear models are Ridge and Lasso, they both agree on that **calwpct, mealpct, avginc and elpct** are important."
   ]
  },
  {
   "cell_type": "markdown",
   "id": "35bd5fa7",
   "metadata": {},
   "source": [
    "## 1.6 Discuss which final model you would choose to predict new data"
   ]
  },
  {
   "cell_type": "markdown",
   "id": "303672f2",
   "metadata": {},
   "source": [
    "Based on above analysis, I will choose **Lasso** to predict new data:  \n",
    "1.Lasso has better test score than KNN and Linear Regression. Lasso has nearly the same test score with Ridge.  \n",
    "2.Lasso could eliminate some less relative independents and make the model become much easier to understand."
   ]
  }
 ],
 "metadata": {
  "kernelspec": {
   "display_name": "Python 3 (ipykernel)",
   "language": "python",
   "name": "python3"
  },
  "language_info": {
   "codemirror_mode": {
    "name": "ipython",
    "version": 3
   },
   "file_extension": ".py",
   "mimetype": "text/x-python",
   "name": "python",
   "nbconvert_exporter": "python",
   "pygments_lexer": "ipython3",
   "version": "3.9.7"
  }
 },
 "nbformat": 4,
 "nbformat_minor": 5
}
