{
 "cells": [
  {
   "cell_type": "markdown",
   "id": "07aaeda6",
   "metadata": {},
   "source": [
    "## Classification on red and white wine characteristics"
   ]
  },
  {
   "cell_type": "markdown",
   "id": "cc21c1fd",
   "metadata": {},
   "source": [
    "1.First, import the red and the white wine csv files into separate pandas dataframes from the following website:\n",
    "https://archive.ics.uci.edu/ml/machine-learning-databases/wine-quality/\n",
    "(Note: you need to adjust the argument for read_csv() from sep=',' to sep=';')\n",
    "Add a new column to each data frame called \"winetype\". For the white wine dataset label the values in this column with a 0, indicating white wine. For the red wine dataset, label values with a 1, indicating red wine. Combine both datasets into a single dataframe.\n",
    "The target data (i.e. the dependent variable) is \"winetype\"."
   ]
  },
  {
   "cell_type": "code",
   "execution_count": 1,
   "id": "db92e0ad",
   "metadata": {},
   "outputs": [],
   "source": [
    "import pandas as pd\n",
    "import numpy as np\n",
    "import matplotlib.pyplot as plt\n",
    "import seaborn as sns\n",
    "import warnings\n",
    "warnings.filterwarnings(\"ignore\")"
   ]
  },
  {
   "cell_type": "code",
   "execution_count": 2,
   "id": "ca947f45",
   "metadata": {},
   "outputs": [
    {
     "data": {
      "text/html": [
       "<div>\n",
       "<style scoped>\n",
       "    .dataframe tbody tr th:only-of-type {\n",
       "        vertical-align: middle;\n",
       "    }\n",
       "\n",
       "    .dataframe tbody tr th {\n",
       "        vertical-align: top;\n",
       "    }\n",
       "\n",
       "    .dataframe thead th {\n",
       "        text-align: right;\n",
       "    }\n",
       "</style>\n",
       "<table border=\"1\" class=\"dataframe\">\n",
       "  <thead>\n",
       "    <tr style=\"text-align: right;\">\n",
       "      <th></th>\n",
       "      <th>fixed acidity</th>\n",
       "      <th>volatile acidity</th>\n",
       "      <th>citric acid</th>\n",
       "      <th>residual sugar</th>\n",
       "      <th>chlorides</th>\n",
       "      <th>free sulfur dioxide</th>\n",
       "      <th>total sulfur dioxide</th>\n",
       "      <th>density</th>\n",
       "      <th>pH</th>\n",
       "      <th>sulphates</th>\n",
       "      <th>alcohol</th>\n",
       "      <th>quality</th>\n",
       "      <th>winetype</th>\n",
       "    </tr>\n",
       "  </thead>\n",
       "  <tbody>\n",
       "    <tr>\n",
       "      <th>0</th>\n",
       "      <td>7.0</td>\n",
       "      <td>0.27</td>\n",
       "      <td>0.36</td>\n",
       "      <td>20.7</td>\n",
       "      <td>0.045</td>\n",
       "      <td>45.0</td>\n",
       "      <td>170.0</td>\n",
       "      <td>1.0010</td>\n",
       "      <td>3.00</td>\n",
       "      <td>0.45</td>\n",
       "      <td>8.8</td>\n",
       "      <td>6</td>\n",
       "      <td>0</td>\n",
       "    </tr>\n",
       "    <tr>\n",
       "      <th>1</th>\n",
       "      <td>6.3</td>\n",
       "      <td>0.30</td>\n",
       "      <td>0.34</td>\n",
       "      <td>1.6</td>\n",
       "      <td>0.049</td>\n",
       "      <td>14.0</td>\n",
       "      <td>132.0</td>\n",
       "      <td>0.9940</td>\n",
       "      <td>3.30</td>\n",
       "      <td>0.49</td>\n",
       "      <td>9.5</td>\n",
       "      <td>6</td>\n",
       "      <td>0</td>\n",
       "    </tr>\n",
       "    <tr>\n",
       "      <th>2</th>\n",
       "      <td>8.1</td>\n",
       "      <td>0.28</td>\n",
       "      <td>0.40</td>\n",
       "      <td>6.9</td>\n",
       "      <td>0.050</td>\n",
       "      <td>30.0</td>\n",
       "      <td>97.0</td>\n",
       "      <td>0.9951</td>\n",
       "      <td>3.26</td>\n",
       "      <td>0.44</td>\n",
       "      <td>10.1</td>\n",
       "      <td>6</td>\n",
       "      <td>0</td>\n",
       "    </tr>\n",
       "    <tr>\n",
       "      <th>3</th>\n",
       "      <td>7.2</td>\n",
       "      <td>0.23</td>\n",
       "      <td>0.32</td>\n",
       "      <td>8.5</td>\n",
       "      <td>0.058</td>\n",
       "      <td>47.0</td>\n",
       "      <td>186.0</td>\n",
       "      <td>0.9956</td>\n",
       "      <td>3.19</td>\n",
       "      <td>0.40</td>\n",
       "      <td>9.9</td>\n",
       "      <td>6</td>\n",
       "      <td>0</td>\n",
       "    </tr>\n",
       "    <tr>\n",
       "      <th>4</th>\n",
       "      <td>7.2</td>\n",
       "      <td>0.23</td>\n",
       "      <td>0.32</td>\n",
       "      <td>8.5</td>\n",
       "      <td>0.058</td>\n",
       "      <td>47.0</td>\n",
       "      <td>186.0</td>\n",
       "      <td>0.9956</td>\n",
       "      <td>3.19</td>\n",
       "      <td>0.40</td>\n",
       "      <td>9.9</td>\n",
       "      <td>6</td>\n",
       "      <td>0</td>\n",
       "    </tr>\n",
       "  </tbody>\n",
       "</table>\n",
       "</div>"
      ],
      "text/plain": [
       "   fixed acidity  volatile acidity  citric acid  residual sugar  chlorides  \\\n",
       "0            7.0              0.27         0.36            20.7      0.045   \n",
       "1            6.3              0.30         0.34             1.6      0.049   \n",
       "2            8.1              0.28         0.40             6.9      0.050   \n",
       "3            7.2              0.23         0.32             8.5      0.058   \n",
       "4            7.2              0.23         0.32             8.5      0.058   \n",
       "\n",
       "   free sulfur dioxide  total sulfur dioxide  density    pH  sulphates  \\\n",
       "0                 45.0                 170.0   1.0010  3.00       0.45   \n",
       "1                 14.0                 132.0   0.9940  3.30       0.49   \n",
       "2                 30.0                  97.0   0.9951  3.26       0.44   \n",
       "3                 47.0                 186.0   0.9956  3.19       0.40   \n",
       "4                 47.0                 186.0   0.9956  3.19       0.40   \n",
       "\n",
       "   alcohol  quality  winetype  \n",
       "0      8.8        6         0  \n",
       "1      9.5        6         0  \n",
       "2     10.1        6         0  \n",
       "3      9.9        6         0  \n",
       "4      9.9        6         0  "
      ]
     },
     "execution_count": 2,
     "metadata": {},
     "output_type": "execute_result"
    }
   ],
   "source": [
    "white = pd.read_csv(\"https://archive.ics.uci.edu/ml/machine-learning-databases/wine-quality/winequality-white.csv\",sep=';')\n",
    "white['winetype'] = 0\n",
    "red = pd.read_csv(\"https://archive.ics.uci.edu/ml/machine-learning-databases/wine-quality/winequality-red.csv\",sep=';')\n",
    "red['winetype'] = 1\n",
    "wine = pd.concat([white, red])\n",
    "wine.head()"
   ]
  },
  {
   "cell_type": "markdown",
   "id": "00a63823",
   "metadata": {},
   "source": [
    "## 2.1 Visualize the univariate distribution of the target feature and each of the three explanatory variables that you think are likely to have a relationship with the target feature."
   ]
  },
  {
   "cell_type": "code",
   "execution_count": 3,
   "id": "a8fed562",
   "metadata": {},
   "outputs": [],
   "source": [
    "\"\"\"\n",
    "volatile acidity\n",
    "citric acid\n",
    "residual sugar\n",
    "\"\"\"\n",
    "new_wine = wine[['winetype','volatile acidity','citric acid','residual sugar']]"
   ]
  },
  {
   "cell_type": "code",
   "execution_count": 4,
   "id": "71201416",
   "metadata": {},
   "outputs": [
    {
     "data": {
      "text/plain": [
       "<AxesSubplot:ylabel='Frequency'>"
      ]
     },
     "execution_count": 4,
     "metadata": {},
     "output_type": "execute_result"
    },
    {
     "data": {
      "image/png": "[encoded data removed]",
      "text/plain": [
       "<Figure size 432x288 with 1 Axes>"
      ]
     },
     "metadata": {
      "needs_background": "light"
     },
     "output_type": "display_data"
    }
   ],
   "source": [
    "new_wine['winetype'].plot.hist()"
   ]
  },
  {
   "cell_type": "code",
   "execution_count": 5,
   "id": "6eb12512",
   "metadata": {},
   "outputs": [
    {
     "data": {
      "text/plain": [
       "<AxesSubplot:ylabel='Frequency'>"
      ]
     },
     "execution_count": 5,
     "metadata": {},
     "output_type": "execute_result"
    },
    {
     "data": {
      "image/png": "[encoded data removed]",
      "text/plain": [
       "<Figure size 432x288 with 1 Axes>"
      ]
     },
     "metadata": {
      "needs_background": "light"
     },
     "output_type": "display_data"
    }
   ],
   "source": [
    "new_wine['volatile acidity'].plot.hist(bins = 20)"
   ]
  },
  {
   "cell_type": "code",
   "execution_count": 6,
   "id": "a734fe6a",
   "metadata": {},
   "outputs": [
    {
     "data": {
      "text/plain": [
       "<AxesSubplot:ylabel='Frequency'>"
      ]
     },
     "execution_count": 6,
     "metadata": {},
     "output_type": "execute_result"
    },
    {
     "data": {
      "image/png": "[encoded data removed]",
      "text/plain": [
       "<Figure size 432x288 with 1 Axes>"
      ]
     },
     "metadata": {
      "needs_background": "light"
     },
     "output_type": "display_data"
    }
   ],
   "source": [
    "new_wine['citric acid'].plot.hist(bins = 20)"
   ]
  },
  {
   "cell_type": "code",
   "execution_count": 7,
   "id": "a827fd5d",
   "metadata": {},
   "outputs": [
    {
     "data": {
      "text/plain": [
       "<AxesSubplot:ylabel='Frequency'>"
      ]
     },
     "execution_count": 7,
     "metadata": {},
     "output_type": "execute_result"
    },
    {
     "data": {
      "image/png": "[encoded data removed]",
      "text/plain": [
       "<Figure size 432x288 with 1 Axes>"
      ]
     },
     "metadata": {
      "needs_background": "light"
     },
     "output_type": "display_data"
    }
   ],
   "source": [
    "new_wine['residual sugar'].plot.hist(bins = 20)"
   ]
  },
  {
   "cell_type": "markdown",
   "id": "aad39dc8",
   "metadata": {},
   "source": [
    "## 2.2 Split data into training and test set. Build models that evaluate the relationship between all available X variables in the dataset and the target variable."
   ]
  },
  {
   "cell_type": "code",
   "execution_count": 8,
   "id": "21832cca",
   "metadata": {},
   "outputs": [],
   "source": [
    "#Split data in training and test set\n",
    "from sklearn.model_selection import train_test_split\n",
    "y2 = wine['winetype']\n",
    "X2 = wine[['fixed acidity','volatile acidity',\n",
    "          'citric acid','residual sugar','chlorides','free sulfur dioxide',\n",
    "          'total sulfur dioxide','density','pH','sulphates','alcohol','quality']]\n",
    "X2_train, X2_test, y2_train, y2_test = train_test_split(X2, y2, random_state = 42)"
   ]
  },
  {
   "cell_type": "markdown",
   "id": "d18a7501",
   "metadata": {},
   "source": [
    "### Evaluate Logistic Regression, Penalized Logistic Regression, and KNN for classification using cross-validation. How different are the results?"
   ]
  },
  {
   "cell_type": "code",
   "execution_count": 9,
   "id": "9719c5f9",
   "metadata": {},
   "outputs": [],
   "source": [
    "#import needed model\n",
    "from sklearn.neighbors import KNeighborsClassifier\n",
    "from sklearn.linear_model import LogisticRegression\n",
    "from sklearn.model_selection import cross_val_score\n",
    "from sklearn.model_selection import GridSearchCV"
   ]
  },
  {
   "cell_type": "code",
   "execution_count": 10,
   "id": "b400a63a",
   "metadata": {},
   "outputs": [
    {
     "name": "stdout",
     "output_type": "stream",
     "text": [
      "KNN original score is: 0.936\n",
      "KNN cross validation average score is: 0.924\n",
      "\n",
      "\n",
      "Logistic regression original score is: 0.977\n",
      "Logistic regression cross validation average score is: 0.980\n",
      "\n",
      "\n",
      "Penalized Logistic original regression score is: 0.975\n",
      "Penalized regression cross validation average score is: 0.972\n"
     ]
    }
   ],
   "source": [
    "#KNN\n",
    "knn = KNeighborsClassifier()\n",
    "knn.fit(X2_train, y2_train)\n",
    "cv_knn = cross_val_score(knn, X2_test, y2_test)\n",
    "print(\"KNN original score is: {:.3f}\".format(knn.score(X2_test, y2_test)))\n",
    "print(\"KNN cross validation average score is: {:.3f}\".format(np.mean(cv_knn)))\n",
    "\n",
    "print('\\n')\n",
    "\n",
    "#Logistic Regression\n",
    "logreg = LogisticRegression(penalty = 'none')\n",
    "logreg.fit(X2_train, y2_train)\n",
    "cv_logreg = cross_val_score(logreg, X2_test, y2_test)\n",
    "print(\"Logistic regression original score is: {:.3f}\".format(logreg.score(X2_test, y2_test)))\n",
    "print(\"Logistic regression cross validation average score is: {:.3f}\".format(np.mean(cv_logreg)))\n",
    "\n",
    "print('\\n')\n",
    "\n",
    "#Penalized Logistic Regression\n",
    "p_logreg = LogisticRegression(penalty = 'l2')\n",
    "p_logreg.fit(X2_train, y2_train)\n",
    "cv_p_logreg = cross_val_score(p_logreg, X2_test, y2_test)\n",
    "print(\"Penalized Logistic original regression score is: {:.3f}\".format(p_logreg.score(X2_test, y2_test)))\n",
    "print(\"Penalized regression cross validation average score is: {:.3f}\".format(np.mean(cv_p_logreg)))"
   ]
  },
  {
   "cell_type": "markdown",
   "id": "4510dc47",
   "metadata": {},
   "source": [
    "**Conclusion:**  \n",
    "The scores of three models **do not have obvious changes** after cross validation."
   ]
  },
  {
   "cell_type": "markdown",
   "id": "7af1842a",
   "metadata": {},
   "source": [
    "### How does scaling the data with StandardScaler influence the results?"
   ]
  },
  {
   "cell_type": "code",
   "execution_count": 11,
   "id": "dd1b9395",
   "metadata": {},
   "outputs": [],
   "source": [
    "#import some preprocessing modules and standard scale the data\n",
    "from sklearn.preprocessing import StandardScaler\n",
    "from sklearn import preprocessing\n",
    "\n",
    "scaler = preprocessing.StandardScaler()\n",
    "scaler.fit(X2_train) \n",
    "X2_train_scaled = scaler.transform(X2_train)\n",
    "X2_test_scaled = scaler.transform(X2_test)"
   ]
  },
  {
   "cell_type": "code",
   "execution_count": 12,
   "id": "2439df93",
   "metadata": {
    "scrolled": true
   },
   "outputs": [
    {
     "name": "stdout",
     "output_type": "stream",
     "text": [
      "KNN original scaled score is: 0.991\n",
      "KNN cross validation scaled average score is: 0.993\n",
      "\n",
      "\n",
      "Logistic regression original scaled score is: 0.993\n",
      "Logistic regression cross validation scaled average score is: 0.993\n",
      "\n",
      "\n",
      "Penalized Logistic original scaled regression score is: 0.991\n",
      "Penalized regression cross validation scaled average score is: 0.991\n"
     ]
    }
   ],
   "source": [
    "#KNN\n",
    "knn = KNeighborsClassifier()\n",
    "knn.fit(X2_train_scaled, y2_train)\n",
    "cv_knn = cross_val_score(knn, X2_test_scaled, y2_test)\n",
    "print(\"KNN original scaled score is: {:.3f}\".format(knn.score(X2_test_scaled, y2_test)))\n",
    "print(\"KNN cross validation scaled average score is: {:.3f}\".format(np.mean(cv_knn)))\n",
    "\n",
    "print('\\n')\n",
    "\n",
    "#Logistic Regression\n",
    "logreg = LogisticRegression(penalty ='none')\n",
    "logreg.fit(X2_train_scaled, y2_train)\n",
    "cv_logreg = cross_val_score(logreg, X2_test_scaled, y2_test)\n",
    "print(\"Logistic regression original scaled score is: {:.3f}\".format(logreg.score(X2_test_scaled, y2_test)))\n",
    "print(\"Logistic regression cross validation scaled average score is: {:.3f}\".format(np.mean(cv_logreg)))\n",
    "\n",
    "print('\\n')\n",
    "\n",
    "#Penalized Logistic Regression\n",
    "p_logreg = LogisticRegression(penalty = 'l2')\n",
    "p_logreg.fit(X2_train_scaled, y2_train)\n",
    "cv_p_logreg = cross_val_score(p_logreg, X2_test_scaled, y2_test)\n",
    "print(\"Penalized Logistic original scaled regression score is: {:.3f}\".format(p_logreg.score(X2_test_scaled, y2_test)))\n",
    "print(\"Penalized regression cross validation scaled average score is: {:.3f}\".format(np.mean(cv_p_logreg)))"
   ]
  },
  {
   "cell_type": "markdown",
   "id": "a18cd253",
   "metadata": {},
   "source": [
    "**Conclusion:**  \n",
    "The scores of KNN for both original score and cross validation score **improve** after StandardScaler, the scores of Logistic Regression or Penalized Logistic Regression **improve slightly** after StandardScaler."
   ]
  },
  {
   "cell_type": "markdown",
   "id": "d5d20cc0",
   "metadata": {},
   "source": [
    "## 2.3 Tune the parameters where possible using GridSearchCV. Do the results improve?"
   ]
  },
  {
   "cell_type": "code",
   "execution_count": 13,
   "id": "a775767e",
   "metadata": {},
   "outputs": [
    {
     "name": "stdout",
     "output_type": "stream",
     "text": [
      "KNN GridSearchCV scaled cross validation average score is: 0.991\n",
      "Penalized logistic Regression GridSearchCV scaled cross validation average score is: 0.993\n"
     ]
    }
   ],
   "source": [
    "#KNN\n",
    "param_grid_knn = {'n_neighbors': np.arange(1, 10, 1)}\n",
    "grid_knn = GridSearchCV(knn, param_grid_knn)\n",
    "cv_knn_grid = cross_val_score(grid_knn, X2_test_scaled, y2_test)\n",
    "print(\"KNN GridSearchCV scaled cross validation average score is: {:.3f}\".format(np.mean(cv_knn_grid)))\n",
    "\n",
    "#Penalized Logistic Regression\n",
    "param_grid_plogreg = {'C': np.arange(1, 10, 1)}\n",
    "grid_plogreg = GridSearchCV(p_logreg, param_grid_plogreg)\n",
    "cv_plogreg_grid = cross_val_score(grid_plogreg, X2_test_scaled, y2_test)\n",
    "print(\"Penalized logistic Regression GridSearchCV scaled cross validation average score is: {:.3f}\".format(np.mean(cv_plogreg_grid)))"
   ]
  },
  {
   "cell_type": "markdown",
   "id": "83f14338",
   "metadata": {},
   "source": [
    "**Conclusion:**  \n",
    "The cross-validation scores of KNN and Penalized Logistic Regression **do not improve** after using GridSearchCV."
   ]
  },
  {
   "cell_type": "markdown",
   "id": "5b5adee8",
   "metadata": {},
   "source": [
    "## 2.4 Change the cross-validation strategy in GridSearchCV from ‘stratified k-fold’ to ‘kfold’ with shuffling."
   ]
  },
  {
   "cell_type": "markdown",
   "id": "bb5862e2",
   "metadata": {},
   "source": [
    "###  Do the parameters for models that can be tuned change?"
   ]
  },
  {
   "cell_type": "code",
   "execution_count": 14,
   "id": "4fa38ac3",
   "metadata": {},
   "outputs": [],
   "source": [
    "#import relevant modules\n",
    "from sklearn.model_selection import RepeatedKFold\n",
    "from sklearn.model_selection import StratifiedKFold\n",
    "from sklearn.model_selection import KFold"
   ]
  },
  {
   "cell_type": "code",
   "execution_count": 15,
   "id": "ffaef63a",
   "metadata": {},
   "outputs": [
    {
     "name": "stdout",
     "output_type": "stream",
     "text": [
      "KNN GridSearchCV(skfold) cross validation average score is: 0.992\n",
      "Penalized logistic Regression(skfold) GridSearchCV cross validation average score is: 0.993\n"
     ]
    }
   ],
   "source": [
    "skfold = StratifiedKFold(n_splits = 10, shuffle = True, random_state = 42)\n",
    "kfold = KFold(n_splits = 10, shuffle = True, random_state = 42)\n",
    "\n",
    "#KNN\n",
    "param_grid_knn = {'n_neighbors': np.arange(1, 10, 1)}\n",
    "grid_knn = GridSearchCV(knn, param_grid_knn, cv = skfold)\n",
    "cv_knn_grid = cross_val_score(grid_knn, X2_test_scaled, y2_test)\n",
    "print(\"KNN GridSearchCV(skfold) cross validation average score is: {:.3f}\".format(np.mean(cv_knn_grid)))\n",
    "\n",
    "#Penalized Logistic Regression\n",
    "param_grid_plogreg = {'C': np.arange(1, 10, 1)}\n",
    "grid_plogreg = GridSearchCV(p_logreg, param_grid_plogreg, cv = skfold)\n",
    "cv_plogreg_grid = cross_val_score(grid_plogreg, X2_test_scaled, y2_test)\n",
    "print(\"Penalized logistic Regression(skfold) GridSearchCV cross validation average score is: {:.3f}\".format(np.mean(cv_plogreg_grid)))"
   ]
  },
  {
   "cell_type": "code",
   "execution_count": 16,
   "id": "0edf8f42",
   "metadata": {},
   "outputs": [
    {
     "name": "stdout",
     "output_type": "stream",
     "text": [
      "KNN GridSearchCV(kfold) cross validation average score is: 0.992\n",
      "Penalized logistic Regression(kfold) GridSearchCV cross validation average score is: 0.992\n"
     ]
    }
   ],
   "source": [
    "#KNN\n",
    "param_grid_knn = {'n_neighbors': np.arange(1, 10, 1)}\n",
    "grid_knn = GridSearchCV(knn, param_grid_knn, cv = kfold)\n",
    "cv_knn_grid = cross_val_score(grid_knn, X2_test_scaled, y2_test)\n",
    "print(\"KNN GridSearchCV(kfold) cross validation average score is: {:.3f}\".format(np.mean(cv_knn_grid)))\n",
    "\n",
    "#Penalized Logistic Regression\n",
    "param_grid_plogreg = {'C': np.arange(1, 10, 1)}\n",
    "grid_plogreg = GridSearchCV(p_logreg, param_grid_plogreg, cv = kfold)\n",
    "cv_plogreg_grid = cross_val_score(grid_plogreg, X2_test_scaled, y2_test)\n",
    "print(\"Penalized logistic Regression(kfold) GridSearchCV cross validation average score is: {:.3f}\".format(np.mean(cv_plogreg_grid)))"
   ]
  },
  {
   "cell_type": "markdown",
   "id": "6353ca2f",
   "metadata": {},
   "source": [
    "**Conclusion:**  \n",
    "The parameters for models that **can be tuned change.**"
   ]
  },
  {
   "cell_type": "markdown",
   "id": "b2a90f4f",
   "metadata": {},
   "source": [
    "### **Do they change if you change the random seed of the shuffling?**"
   ]
  },
  {
   "cell_type": "markdown",
   "id": "cd8100af",
   "metadata": {},
   "source": [
    "*change the random seed of the shuffling*"
   ]
  },
  {
   "cell_type": "code",
   "execution_count": 17,
   "id": "06a1a7b3",
   "metadata": {},
   "outputs": [
    {
     "name": "stdout",
     "output_type": "stream",
     "text": [
      "KNN GridSearchCV(skfold) cross validation average score is: 0.991\n",
      "Penalized logistic Regression(skfold) GridSearchCV cross validation average score is: 0.992\n"
     ]
    }
   ],
   "source": [
    "skfold = StratifiedKFold(n_splits = 10, shuffle = True, random_state = 21)\n",
    "kfold = KFold(n_splits = 10, shuffle = True, random_state = 21)\n",
    "\n",
    "#KNN\n",
    "param_grid_knn = {'n_neighbors': np.arange(1, 10, 1)}\n",
    "grid_knn = GridSearchCV(knn, param_grid_knn, cv = skfold)\n",
    "cv_knn_grid = cross_val_score(grid_knn, X2_test_scaled, y2_test)\n",
    "print(\"KNN GridSearchCV(skfold) cross validation average score is: {:.3f}\".format(np.mean(cv_knn_grid)))\n",
    "\n",
    "#Penalized Logistic Regression\n",
    "param_grid_plogreg = {'C': np.arange(1, 10, 1)}\n",
    "grid_plogreg = GridSearchCV(p_logreg, param_grid_plogreg, cv = skfold)\n",
    "cv_plogreg_grid = cross_val_score(grid_plogreg, X2_test_scaled, y2_test)\n",
    "print(\"Penalized logistic Regression(skfold) GridSearchCV cross validation average score is: {:.3f}\".format(np.mean(cv_plogreg_grid)))"
   ]
  },
  {
   "cell_type": "code",
   "execution_count": 18,
   "id": "85c6cc4d",
   "metadata": {
    "scrolled": true
   },
   "outputs": [
    {
     "name": "stdout",
     "output_type": "stream",
     "text": [
      "KNN GridSearchCV(kfold) cross validation average score is: 0.991\n",
      "Penalized logistic Regression(kfold) GridSearchCV cross validation average score is: 0.992\n"
     ]
    }
   ],
   "source": [
    "#KNN\n",
    "param_grid_knn = {'n_neighbors': np.arange(1, 10, 1)}\n",
    "grid_knn = GridSearchCV(knn, param_grid_knn, cv = kfold)\n",
    "cv_knn_grid = cross_val_score(grid_knn, X2_test_scaled, y2_test)\n",
    "print(\"KNN GridSearchCV(kfold) cross validation average score is: {:.3f}\".format(np.mean(cv_knn_grid)))\n",
    "\n",
    "#Penalized Logistic Regression\n",
    "param_grid_plogreg = {'C': np.arange(1, 10, 1)}\n",
    "grid_plogreg = GridSearchCV(p_logreg, param_grid_plogreg, cv = kfold)\n",
    "cv_plogreg_grid = cross_val_score(grid_plogreg, X2_test_scaled, y2_test)\n",
    "print(\"Penalized logistic Regression(kfold) GridSearchCV cross validation average score is: {:.3f}\".format(np.mean(cv_plogreg_grid)))"
   ]
  },
  {
   "cell_type": "markdown",
   "id": "a2324bf0",
   "metadata": {},
   "source": [
    "**Conclusion:**   \n",
    "They **change** if we change the random seed of the shuffling."
   ]
  },
  {
   "cell_type": "markdown",
   "id": "1a8f6283",
   "metadata": {},
   "source": [
    "### Do they change if you change the random state of the split into training and test data?"
   ]
  },
  {
   "cell_type": "markdown",
   "id": "f3cd2c57",
   "metadata": {},
   "source": [
    "*change the random state of the split*"
   ]
  },
  {
   "cell_type": "code",
   "execution_count": 19,
   "id": "851b1d3b",
   "metadata": {},
   "outputs": [],
   "source": [
    "#change the random state\n",
    "X2_train, X2_test, y2_train, y2_test = train_test_split(X2, y2, random_state = 21)\n",
    "scaler = preprocessing.StandardScaler()\n",
    "scaler.fit(X2_train) \n",
    "X2_train_scaled = scaler.transform(X2_train)\n",
    "X2_test_scaled = scaler.transform(X2_test)"
   ]
  },
  {
   "cell_type": "code",
   "execution_count": 20,
   "id": "2623c976",
   "metadata": {},
   "outputs": [
    {
     "name": "stdout",
     "output_type": "stream",
     "text": [
      "KNN GridSearchCV cross validation average score is: 0.987\n",
      "Penalized logistic Regression GridSearchCV cross validation average score is: 0.991\n"
     ]
    }
   ],
   "source": [
    "#KNN\n",
    "param_grid_knn = {'n_neighbors': np.arange(1, 10, 1)}\n",
    "grid_knn = GridSearchCV(knn, param_grid_knn)\n",
    "cv_knn_grid = cross_val_score(grid_knn, X2_test_scaled, y2_test)\n",
    "print(\"KNN GridSearchCV cross validation average score is: {:.3f}\".format(np.mean(cv_knn_grid)))\n",
    "\n",
    "#Penalized Logistic Regression\n",
    "param_grid_plogreg = {'C': np.arange(1, 10, 1)}\n",
    "grid_plogreg = GridSearchCV(p_logreg, param_grid_plogreg)\n",
    "cv_plogreg_grid = cross_val_score(grid_plogreg, X2_test_scaled, y2_test)\n",
    "print(\"Penalized logistic Regression GridSearchCV cross validation average score is: {:.3f}\".format(np.mean(cv_plogreg_grid)))"
   ]
  },
  {
   "cell_type": "markdown",
   "id": "71b550ac",
   "metadata": {},
   "source": [
    "**Conclusion:**   \n",
    "They **change** if we change the random state of the split into training and test data."
   ]
  },
  {
   "cell_type": "markdown",
   "id": "a23d4a16",
   "metadata": {},
   "source": [
    "## 2.5 Lastly, compare the coefficients for Logistic Regression and Penalized Logistic Regression and discuss which final model you would choose to predict new data."
   ]
  },
  {
   "cell_type": "code",
   "execution_count": 21,
   "id": "72bcb4f8",
   "metadata": {},
   "outputs": [],
   "source": [
    "# reset random state first\n",
    "X2_train, X2_test, y2_train, y2_test = train_test_split(X2, y2, random_state = 42)\n",
    "scaler = preprocessing.StandardScaler()\n",
    "scaler.fit(X2_train) \n",
    "X2_train_scaled = scaler.transform(X2_train)\n",
    "X2_test_scaled = scaler.transform(X2_test)"
   ]
  },
  {
   "cell_type": "code",
   "execution_count": 22,
   "id": "2d99eded",
   "metadata": {},
   "outputs": [
    {
     "name": "stdout",
     "output_type": "stream",
     "text": [
      "             Independent  Logreg_coef  Plogreg_coef\n",
      "0          fixed acidity    -0.396933      0.355438\n",
      "1       volatile acidity     1.155973      1.280869\n",
      "2            citric acid    -0.464869     -0.359597\n",
      "3         residual sugar    -5.603123     -3.521214\n",
      "4              chlorides     0.759642      0.793006\n",
      "5    free sulfur dioxide     1.435934      0.928958\n",
      "6   total sulfur dioxide    -3.336956     -2.918439\n",
      "7                density     5.750060      3.497433\n",
      "8                     pH    -0.288440      0.320909\n",
      "9              sulphates     0.437953      0.635613\n",
      "10               alcohol     2.317036      1.204437\n",
      "11               quality     0.186765      0.162930\n"
     ]
    }
   ],
   "source": [
    "#calculate coefficients\n",
    "independence = X2.columns.tolist()\n",
    "logreg_coef = logreg.coef_\n",
    "plogreg_coef = p_logreg.coef_\n",
    "\n",
    "logreg_coef1 = [i for raw in logreg_coef for i in raw]\n",
    "plogreg_coef1 = [m for raw1 in plogreg_coef for m in raw1]\n",
    "\n",
    "coef_dic = {\"Independent\" : independence,\n",
    "            \"Logreg_coef\": logreg_coef1,\n",
    "            \"Plogreg_coef\": plogreg_coef1}\n",
    "\n",
    "coef = pd.DataFrame(coef_dic)\n",
    "print(coef)"
   ]
  },
  {
   "cell_type": "markdown",
   "id": "0ac7c7b6",
   "metadata": {},
   "source": [
    "**Conclusion:**  \n",
    "I would choose **Logistic Regression model** to predict new data:  \n",
    "1.Logistic Regression has nearly the same score as or slightly higher score than Penalized Regression model.  \n",
    "2.Logistic Regression could display some obvious independents in the analysis, such as residual sugar, density, etc.  "
   ]
  }
 ],
 "metadata": {
  "kernelspec": {
   "display_name": "Python 3 (ipykernel)",
   "language": "python",
   "name": "python3"
  },
  "language_info": {
   "codemirror_mode": {
    "name": "ipython",
    "version": 3
   },
   "file_extension": ".py",
   "mimetype": "text/x-python",
   "name": "python",
   "nbconvert_exporter": "python",
   "pygments_lexer": "ipython3",
   "version": "3.9.7"
  }
 },
 "nbformat": 4,
 "nbformat_minor": 5
}
