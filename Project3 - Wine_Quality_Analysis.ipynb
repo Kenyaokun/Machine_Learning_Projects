{
 "cells": [
  {
   "cell_type": "markdown",
   "id": "4007aac6",
   "metadata": {},
   "source": [
    "## Wine_Quality_Analysis"
   ]
  },
  {
   "cell_type": "markdown",
   "id": "f6f5710f",
   "metadata": {},
   "source": [
    "### First, import the red wine csv file into a pandas dataframe from the following website:  \n",
    "https://archive.ics.uci.edu/ml/machine-learning-databases/wine-quality/  \n",
    "**(Note: you need to adjust the argument for read_csv() from sep=',' to sep=';')**"
   ]
  },
  {
   "cell_type": "code",
   "execution_count": 1,
   "id": "14c034c5",
   "metadata": {},
   "outputs": [],
   "source": [
    "import pandas as pd\n",
    "import matplotlib.pyplot as plt\n",
    "import numpy as np\n",
    "import warnings\n",
    "warnings.filterwarnings(\"ignore\")"
   ]
  },
  {
   "cell_type": "code",
   "execution_count": 2,
   "id": "67ab9234",
   "metadata": {},
   "outputs": [
    {
     "data": {
      "text/html": [
       "<div>\n",
       "<style scoped>\n",
       "    .dataframe tbody tr th:only-of-type {\n",
       "        vertical-align: middle;\n",
       "    }\n",
       "\n",
       "    .dataframe tbody tr th {\n",
       "        vertical-align: top;\n",
       "    }\n",
       "\n",
       "    .dataframe thead th {\n",
       "        text-align: right;\n",
       "    }\n",
       "</style>\n",
       "<table border=\"1\" class=\"dataframe\">\n",
       "  <thead>\n",
       "    <tr style=\"text-align: right;\">\n",
       "      <th></th>\n",
       "      <th>fixed acidity</th>\n",
       "      <th>volatile acidity</th>\n",
       "      <th>citric acid</th>\n",
       "      <th>residual sugar</th>\n",
       "      <th>chlorides</th>\n",
       "      <th>free sulfur dioxide</th>\n",
       "      <th>total sulfur dioxide</th>\n",
       "      <th>density</th>\n",
       "      <th>pH</th>\n",
       "      <th>sulphates</th>\n",
       "      <th>alcohol</th>\n",
       "      <th>quality</th>\n",
       "    </tr>\n",
       "  </thead>\n",
       "  <tbody>\n",
       "    <tr>\n",
       "      <th>0</th>\n",
       "      <td>7.4</td>\n",
       "      <td>0.70</td>\n",
       "      <td>0.00</td>\n",
       "      <td>1.9</td>\n",
       "      <td>0.076</td>\n",
       "      <td>11.0</td>\n",
       "      <td>34.0</td>\n",
       "      <td>0.9978</td>\n",
       "      <td>3.51</td>\n",
       "      <td>0.56</td>\n",
       "      <td>9.4</td>\n",
       "      <td>5</td>\n",
       "    </tr>\n",
       "    <tr>\n",
       "      <th>1</th>\n",
       "      <td>7.8</td>\n",
       "      <td>0.88</td>\n",
       "      <td>0.00</td>\n",
       "      <td>2.6</td>\n",
       "      <td>0.098</td>\n",
       "      <td>25.0</td>\n",
       "      <td>67.0</td>\n",
       "      <td>0.9968</td>\n",
       "      <td>3.20</td>\n",
       "      <td>0.68</td>\n",
       "      <td>9.8</td>\n",
       "      <td>5</td>\n",
       "    </tr>\n",
       "    <tr>\n",
       "      <th>2</th>\n",
       "      <td>7.8</td>\n",
       "      <td>0.76</td>\n",
       "      <td>0.04</td>\n",
       "      <td>2.3</td>\n",
       "      <td>0.092</td>\n",
       "      <td>15.0</td>\n",
       "      <td>54.0</td>\n",
       "      <td>0.9970</td>\n",
       "      <td>3.26</td>\n",
       "      <td>0.65</td>\n",
       "      <td>9.8</td>\n",
       "      <td>5</td>\n",
       "    </tr>\n",
       "    <tr>\n",
       "      <th>3</th>\n",
       "      <td>11.2</td>\n",
       "      <td>0.28</td>\n",
       "      <td>0.56</td>\n",
       "      <td>1.9</td>\n",
       "      <td>0.075</td>\n",
       "      <td>17.0</td>\n",
       "      <td>60.0</td>\n",
       "      <td>0.9980</td>\n",
       "      <td>3.16</td>\n",
       "      <td>0.58</td>\n",
       "      <td>9.8</td>\n",
       "      <td>6</td>\n",
       "    </tr>\n",
       "    <tr>\n",
       "      <th>4</th>\n",
       "      <td>7.4</td>\n",
       "      <td>0.70</td>\n",
       "      <td>0.00</td>\n",
       "      <td>1.9</td>\n",
       "      <td>0.076</td>\n",
       "      <td>11.0</td>\n",
       "      <td>34.0</td>\n",
       "      <td>0.9978</td>\n",
       "      <td>3.51</td>\n",
       "      <td>0.56</td>\n",
       "      <td>9.4</td>\n",
       "      <td>5</td>\n",
       "    </tr>\n",
       "  </tbody>\n",
       "</table>\n",
       "</div>"
      ],
      "text/plain": [
       "   fixed acidity  volatile acidity  citric acid  residual sugar  chlorides  \\\n",
       "0            7.4              0.70         0.00             1.9      0.076   \n",
       "1            7.8              0.88         0.00             2.6      0.098   \n",
       "2            7.8              0.76         0.04             2.3      0.092   \n",
       "3           11.2              0.28         0.56             1.9      0.075   \n",
       "4            7.4              0.70         0.00             1.9      0.076   \n",
       "\n",
       "   free sulfur dioxide  total sulfur dioxide  density    pH  sulphates  \\\n",
       "0                 11.0                  34.0   0.9978  3.51       0.56   \n",
       "1                 25.0                  67.0   0.9968  3.20       0.68   \n",
       "2                 15.0                  54.0   0.9970  3.26       0.65   \n",
       "3                 17.0                  60.0   0.9980  3.16       0.58   \n",
       "4                 11.0                  34.0   0.9978  3.51       0.56   \n",
       "\n",
       "   alcohol  quality  \n",
       "0      9.4        5  \n",
       "1      9.8        5  \n",
       "2      9.8        5  \n",
       "3      9.8        6  \n",
       "4      9.4        5  "
      ]
     },
     "execution_count": 2,
     "metadata": {},
     "output_type": "execute_result"
    }
   ],
   "source": [
    "red = pd.read_csv(\"https://archive.ics.uci.edu/ml/machine-learning-databases/wine-quality/winequality-red.csv\",sep = ';')\n",
    "red.head()"
   ]
  },
  {
   "cell_type": "markdown",
   "id": "86013657",
   "metadata": {},
   "source": [
    "### Use the wine quality data set to answer the following questions. Present any figures that assist you in your analysis:"
   ]
  },
  {
   "cell_type": "markdown",
   "id": "d70f8aef",
   "metadata": {},
   "source": [
    "### 1. Use K Means Cluster Analysis to identify cluster(s) of observations that have high and low values of the wine quality. (Assume all variables are continuous.)"
   ]
  },
  {
   "cell_type": "code",
   "execution_count": 3,
   "id": "1e9c6219",
   "metadata": {},
   "outputs": [],
   "source": [
    "#Firstly, we need to scale the original dataset\n",
    "from sklearn.preprocessing import StandardScaler\n",
    "from sklearn import preprocessing\n",
    "scaler = preprocessing.StandardScaler()\n",
    "scaler.fit(red) \n",
    "X_scaled = scaler.transform(red)"
   ]
  },
  {
   "cell_type": "code",
   "execution_count": 4,
   "id": "24cb830c",
   "metadata": {},
   "outputs": [
    {
     "data": {
      "text/plain": [
       "Text(0, 0.5, 'silhouette Score')"
      ]
     },
     "execution_count": 4,
     "metadata": {},
     "output_type": "execute_result"
    },
    {
     "data": {
      "image/png": "[encoded data removed]",
      "text/plain": [
       "<Figure size 1080x360 with 1 Axes>"
      ]
     },
     "metadata": {
      "needs_background": "light"
     },
     "output_type": "display_data"
    }
   ],
   "source": [
    "from sklearn.cluster import KMeans\n",
    "from sklearn.metrics import silhouette_score\n",
    "\n",
    "sil = []\n",
    "kmax = 19\n",
    "\n",
    "for k in range(2, kmax+1):\n",
    "    kmeans = KMeans(n_clusters = k)\n",
    "    kmeans.fit(X_scaled)\n",
    "    labels = kmeans.labels_\n",
    "    sil.append(silhouette_score(X_scaled, labels, metric = 'euclidean'))\n",
    "\n",
    "fig = plt.figure(figsize=(15, 5))\n",
    "plt.plot(range(2, 20), sil, marker='o')\n",
    "plt.grid(True)\n",
    "plt.xlabel('Number of clusters')\n",
    "plt.ylabel('silhouette Score')\n"
   ]
  },
  {
   "cell_type": "markdown",
   "id": "27cb92e5",
   "metadata": {},
   "source": [
    "### Conclusion: When cluster(which means k=2), the model is optimal."
   ]
  },
  {
   "cell_type": "code",
   "execution_count": 5,
   "id": "bc8c1b4a",
   "metadata": {},
   "outputs": [],
   "source": [
    "#Use the kmean\n",
    "from sklearn.cluster import KMeans\n",
    "\n",
    "kmeans = KMeans(n_clusters = 2)\n",
    "y_kmeans = kmeans.fit_predict(X_scaled)"
   ]
  },
  {
   "cell_type": "code",
   "execution_count": 6,
   "id": "f65db67a",
   "metadata": {
    "scrolled": false
   },
   "outputs": [
    {
     "data": {
      "text/html": [
       "<div>\n",
       "<style scoped>\n",
       "    .dataframe tbody tr th:only-of-type {\n",
       "        vertical-align: middle;\n",
       "    }\n",
       "\n",
       "    .dataframe tbody tr th {\n",
       "        vertical-align: top;\n",
       "    }\n",
       "\n",
       "    .dataframe thead th {\n",
       "        text-align: right;\n",
       "    }\n",
       "</style>\n",
       "<table border=\"1\" class=\"dataframe\">\n",
       "  <thead>\n",
       "    <tr style=\"text-align: right;\">\n",
       "      <th></th>\n",
       "      <th>fixed acidity</th>\n",
       "      <th>volatile acidity</th>\n",
       "      <th>citric acid</th>\n",
       "      <th>residual sugar</th>\n",
       "      <th>chlorides</th>\n",
       "      <th>free sulfur dioxide</th>\n",
       "      <th>total sulfur dioxide</th>\n",
       "      <th>density</th>\n",
       "      <th>pH</th>\n",
       "      <th>sulphates</th>\n",
       "      <th>alcohol</th>\n",
       "      <th>quality</th>\n",
       "    </tr>\n",
       "    <tr>\n",
       "      <th>cluster</th>\n",
       "      <th></th>\n",
       "      <th></th>\n",
       "      <th></th>\n",
       "      <th></th>\n",
       "      <th></th>\n",
       "      <th></th>\n",
       "      <th></th>\n",
       "      <th></th>\n",
       "      <th></th>\n",
       "      <th></th>\n",
       "      <th></th>\n",
       "      <th></th>\n",
       "    </tr>\n",
       "  </thead>\n",
       "  <tbody>\n",
       "    <tr>\n",
       "      <th>0</th>\n",
       "      <td>0.887405</td>\n",
       "      <td>-0.731428</td>\n",
       "      <td>0.996236</td>\n",
       "      <td>0.126634</td>\n",
       "      <td>0.232428</td>\n",
       "      <td>-0.179628</td>\n",
       "      <td>-0.246302</td>\n",
       "      <td>0.390812</td>\n",
       "      <td>-0.676331</td>\n",
       "      <td>0.565789</td>\n",
       "      <td>0.289388</td>\n",
       "      <td>0.461453</td>\n",
       "    </tr>\n",
       "    <tr>\n",
       "      <th>1</th>\n",
       "      <td>-0.510586</td>\n",
       "      <td>0.420842</td>\n",
       "      <td>-0.573204</td>\n",
       "      <td>-0.072861</td>\n",
       "      <td>-0.133732</td>\n",
       "      <td>0.103352</td>\n",
       "      <td>0.141714</td>\n",
       "      <td>-0.224861</td>\n",
       "      <td>0.389140</td>\n",
       "      <td>-0.325538</td>\n",
       "      <td>-0.166505</td>\n",
       "      <td>-0.265506</td>\n",
       "    </tr>\n",
       "  </tbody>\n",
       "</table>\n",
       "</div>"
      ],
      "text/plain": [
       "         fixed acidity  volatile acidity  citric acid  residual sugar  \\\n",
       "cluster                                                                 \n",
       "0             0.887405         -0.731428     0.996236        0.126634   \n",
       "1            -0.510586          0.420842    -0.573204       -0.072861   \n",
       "\n",
       "         chlorides  free sulfur dioxide  total sulfur dioxide   density  \\\n",
       "cluster                                                                   \n",
       "0         0.232428            -0.179628             -0.246302  0.390812   \n",
       "1        -0.133732             0.103352              0.141714 -0.224861   \n",
       "\n",
       "               pH  sulphates   alcohol   quality  \n",
       "cluster                                           \n",
       "0       -0.676331   0.565789  0.289388  0.461453  \n",
       "1        0.389140  -0.325538 -0.166505 -0.265506  "
      ]
     },
     "metadata": {},
     "output_type": "display_data"
    }
   ],
   "source": [
    "# means for full scaled data\n",
    "X = pd.DataFrame(X_scaled, index = red.index, columns = red.columns)\n",
    "X['cluster'] = kmeans.labels_\n",
    "display(X.groupby('cluster').mean()) "
   ]
  },
  {
   "cell_type": "markdown",
   "id": "34beadd3",
   "metadata": {},
   "source": [
    "#### Describe variables that cluster with higher values of wine quality."
   ]
  },
  {
   "cell_type": "markdown",
   "id": "26b3a2e2",
   "metadata": {},
   "source": [
    "- From my perspective, cluster with higher values of wine quality has higher(positive) fixed acidity, citric acid, residual sugar, chlorides, density, sulphates and alcohol as well as lower(negative) volatile acidity, free sulfur dioxide, total sulfur dioxide and pH."
   ]
  },
  {
   "cell_type": "markdown",
   "id": "1a77101a",
   "metadata": {},
   "source": [
    "#### Describe variables that cluster with lower values of wine quality."
   ]
  },
  {
   "cell_type": "markdown",
   "id": "9b2c626f",
   "metadata": {},
   "source": [
    "- From my perspective, cluster with lower values of wine quality has higher(positive) volatile acidity, free sulfur dioxide, total sulfur dioxide and pH as well as lower(negative) fixed acidity, citric acid, residual sugar, chlorides, density, sulphates and alcohol. "
   ]
  },
  {
   "cell_type": "markdown",
   "id": "962466f9",
   "metadata": {},
   "source": [
    "#### If you want to make a good bottle of wine, then what characteristics are most important according to this analysis?"
   ]
  },
  {
   "cell_type": "code",
   "execution_count": 7,
   "id": "27a23179",
   "metadata": {
    "scrolled": false
   },
   "outputs": [
    {
     "name": "stdout",
     "output_type": "stream",
     "text": [
      "fixed acidity           1.397991\n",
      "volatile acidity       -1.152270\n",
      "citric acid             1.569440\n",
      "residual sugar          0.199495\n",
      "chlorides               0.366159\n",
      "free sulfur dioxide    -0.282980\n",
      "total sulfur dioxide   -0.388016\n",
      "density                 0.615673\n",
      "pH                     -1.065472\n",
      "sulphates               0.891326\n",
      "alcohol                 0.455894\n",
      "quality                 0.726960\n",
      "dtype: float64\n"
     ]
    }
   ],
   "source": [
    "m = X.groupby('cluster').mean()\n",
    "diff = m.iloc[0,:] - m.iloc[1,:]\n",
    "print(diff)"
   ]
  },
  {
   "cell_type": "markdown",
   "id": "e9efe123",
   "metadata": {},
   "source": [
    "- According to this analysis, if I want to make a good bottle of wine, **fixed acidity, volatile acidity, citric acid and pH** are most important, and if I need to choose one most important characteristic, it should be **citric acid** since it has the largest difference between high quality wine and low quality wine."
   ]
  },
  {
   "cell_type": "markdown",
   "id": "36d765d5",
   "metadata": {},
   "source": [
    "### 2. Use Hierarchical Cluster Analysis to identify cluster(s) of observations that have high and low values of the wine quality. (Assume all variables are continuous.) Use complete linkage and the same number of groups that you found to be the most meaningful in question 1."
   ]
  },
  {
   "cell_type": "code",
   "execution_count": 8,
   "id": "68863eff",
   "metadata": {},
   "outputs": [],
   "source": [
    "from sklearn.cluster import AgglomerativeClustering\n",
    "\n",
    "ac = AgglomerativeClustering(n_clusters=2, affinity='euclidean', linkage='complete')\n",
    "y_ac = ac.fit_predict(X_scaled)"
   ]
  },
  {
   "cell_type": "code",
   "execution_count": 9,
   "id": "6cc29608",
   "metadata": {},
   "outputs": [
    {
     "data": {
      "text/html": [
       "<div>\n",
       "<style scoped>\n",
       "    .dataframe tbody tr th:only-of-type {\n",
       "        vertical-align: middle;\n",
       "    }\n",
       "\n",
       "    .dataframe tbody tr th {\n",
       "        vertical-align: top;\n",
       "    }\n",
       "\n",
       "    .dataframe thead th {\n",
       "        text-align: right;\n",
       "    }\n",
       "</style>\n",
       "<table border=\"1\" class=\"dataframe\">\n",
       "  <thead>\n",
       "    <tr style=\"text-align: right;\">\n",
       "      <th></th>\n",
       "      <th>fixed acidity</th>\n",
       "      <th>volatile acidity</th>\n",
       "      <th>citric acid</th>\n",
       "      <th>residual sugar</th>\n",
       "      <th>chlorides</th>\n",
       "      <th>free sulfur dioxide</th>\n",
       "      <th>total sulfur dioxide</th>\n",
       "      <th>density</th>\n",
       "      <th>pH</th>\n",
       "      <th>sulphates</th>\n",
       "      <th>alcohol</th>\n",
       "      <th>quality</th>\n",
       "    </tr>\n",
       "    <tr>\n",
       "      <th>cluster</th>\n",
       "      <th></th>\n",
       "      <th></th>\n",
       "      <th></th>\n",
       "      <th></th>\n",
       "      <th></th>\n",
       "      <th></th>\n",
       "      <th></th>\n",
       "      <th></th>\n",
       "      <th></th>\n",
       "      <th></th>\n",
       "      <th></th>\n",
       "      <th></th>\n",
       "    </tr>\n",
       "  </thead>\n",
       "  <tbody>\n",
       "    <tr>\n",
       "      <th>0</th>\n",
       "      <td>-0.000094</td>\n",
       "      <td>0.000440</td>\n",
       "      <td>-0.003917</td>\n",
       "      <td>-0.000054</td>\n",
       "      <td>-0.013922</td>\n",
       "      <td>-0.000494</td>\n",
       "      <td>-0.000401</td>\n",
       "      <td>-0.000965</td>\n",
       "      <td>0.003336</td>\n",
       "      <td>-0.007182</td>\n",
       "      <td>0.001203</td>\n",
       "      <td>0.001762</td>\n",
       "    </tr>\n",
       "    <tr>\n",
       "      <th>1</th>\n",
       "      <td>0.074897</td>\n",
       "      <td>-0.350945</td>\n",
       "      <td>3.127368</td>\n",
       "      <td>0.043416</td>\n",
       "      <td>11.116408</td>\n",
       "      <td>0.394484</td>\n",
       "      <td>0.320274</td>\n",
       "      <td>0.770280</td>\n",
       "      <td>-2.663717</td>\n",
       "      <td>5.735193</td>\n",
       "      <td>-0.960246</td>\n",
       "      <td>-1.407158</td>\n",
       "    </tr>\n",
       "  </tbody>\n",
       "</table>\n",
       "</div>"
      ],
      "text/plain": [
       "         fixed acidity  volatile acidity  citric acid  residual sugar  \\\n",
       "cluster                                                                 \n",
       "0            -0.000094          0.000440    -0.003917       -0.000054   \n",
       "1             0.074897         -0.350945     3.127368        0.043416   \n",
       "\n",
       "         chlorides  free sulfur dioxide  total sulfur dioxide   density  \\\n",
       "cluster                                                                   \n",
       "0        -0.013922            -0.000494             -0.000401 -0.000965   \n",
       "1        11.116408             0.394484              0.320274  0.770280   \n",
       "\n",
       "               pH  sulphates   alcohol   quality  \n",
       "cluster                                           \n",
       "0        0.003336  -0.007182  0.001203  0.001762  \n",
       "1       -2.663717   5.735193 -0.960246 -1.407158  "
      ]
     },
     "metadata": {},
     "output_type": "display_data"
    }
   ],
   "source": [
    "X1 = pd.DataFrame(X_scaled, index = red.index, columns = red.columns)\n",
    "X1['cluster'] = ac.labels_\n",
    "display(X1.groupby('cluster').mean()) "
   ]
  },
  {
   "cell_type": "markdown",
   "id": "df4f2d63",
   "metadata": {},
   "source": [
    "#### Describe variables that cluster with higher values of wine quality."
   ]
  },
  {
   "cell_type": "markdown",
   "id": "08c22dc0",
   "metadata": {},
   "source": [
    "- From my perspective, cluster with higher values of wine quality has higher(positive) volatile acidity, pH and alcohol as well as lower(negative) fixed acidity, citric acid, residual sugar, chlorides, free sulfur dioxide, total sulfur dioxide, density and sulphates."
   ]
  },
  {
   "cell_type": "markdown",
   "id": "7e5ab7be",
   "metadata": {},
   "source": [
    "#### Describe variables that cluster with lower values of wine quality."
   ]
  },
  {
   "cell_type": "markdown",
   "id": "ff08828d",
   "metadata": {},
   "source": [
    "- From my perspective, cluster with higher values of wine quality has lower(negative) volatile acidity, pH and alcohol as well as higher(positive) fixed acidity, citric acid, residual sugar, chlorides, free sulfur dioxide, total sulfur dioxide, density and sulphates."
   ]
  },
  {
   "cell_type": "markdown",
   "id": "0e2c19a3",
   "metadata": {},
   "source": [
    "#### If you want to make a good bottle of wine, then what characteristics are most important according to this analysis? Have your conclusions changed using Hierarchical clustering rather than k means clustering? Present any figures that assist you in your analysis."
   ]
  },
  {
   "cell_type": "code",
   "execution_count": 10,
   "id": "764ac97b",
   "metadata": {
    "scrolled": true
   },
   "outputs": [
    {
     "name": "stdout",
     "output_type": "stream",
     "text": [
      "fixed acidity           -0.074991\n",
      "volatile acidity         0.351385\n",
      "citric acid             -3.131285\n",
      "residual sugar          -0.043471\n",
      "chlorides              -11.130329\n",
      "free sulfur dioxide     -0.394978\n",
      "total sulfur dioxide    -0.320675\n",
      "density                 -0.771245\n",
      "pH                       2.667053\n",
      "sulphates               -5.742375\n",
      "alcohol                  0.961449\n",
      "quality                  1.408920\n",
      "dtype: float64\n"
     ]
    }
   ],
   "source": [
    "m2 = X1.groupby('cluster').mean()\n",
    "diff2 = m2.iloc[0,:] - m2.iloc[1,:]\n",
    "print(diff2)"
   ]
  },
  {
   "cell_type": "code",
   "execution_count": 11,
   "id": "fd301683",
   "metadata": {},
   "outputs": [
    {
     "data": {
      "image/png": "[encoded data removed]",
      "text/plain": [
       "<Figure size 576x216 with 2 Axes>"
      ]
     },
     "metadata": {
      "needs_background": "light"
     },
     "output_type": "display_data"
    }
   ],
   "source": [
    "from sklearn.cluster import KMeans\n",
    "\n",
    "f, (ax1, ax2) = plt.subplots(1, 2, figsize=(8, 3))\n",
    "\n",
    "km = KMeans(n_clusters=2)\n",
    "y_km = km.fit_predict(X_scaled)\n",
    "ax1.scatter(X_scaled[y_km == 0, 0], X_scaled[y_km == 0, 1],\n",
    "            c='lightblue', marker='o', s=40, label='cluster 1')\n",
    "ax1.scatter(X_scaled[y_km == 1, 0], X_scaled[y_km == 1, 1],\n",
    "            c='red', marker='s', s=40, label='cluster 2')\n",
    "ax1.set_title('K-means clustering')\n",
    "\n",
    "ac = AgglomerativeClustering(n_clusters=2,\n",
    "                             affinity='euclidean',\n",
    "                             linkage='complete')\n",
    "y_ac = ac.fit_predict(X_scaled)\n",
    "ax2.scatter(X_scaled[y_ac == 0, 0], X_scaled[y_ac == 0, 1], c='lightblue',\n",
    "            marker='o', s=40, label='cluster 1')\n",
    "ax2.scatter(X_scaled[y_ac == 1, 0], X_scaled[y_ac == 1, 1], c='red',\n",
    "            marker='s', s=40, label='cluster 2')\n",
    "ax2.set_title('Agglomerative clustering')\n",
    "\n",
    "plt.legend()\n",
    "plt.tight_layout()\n",
    "plt.show()"
   ]
  },
  {
   "cell_type": "markdown",
   "id": "b7f5202d",
   "metadata": {},
   "source": [
    "- According to this analysis, if I want to make a good bottle of wine, **citric acid, chlorides, pH and sulphates** are most important, and if I need to choose one most important characteristic, it should be **chlorides** since it has the largest difference between high quality wine and low quality wine.  \n",
    "- My conclusions **change** as for the characteristics of higher and lower values of wine as well as the most important characteristic using hierarchical clustering rather than k means clustering.  "
   ]
  },
  {
   "cell_type": "markdown",
   "id": "6ba6be7a",
   "metadata": {},
   "source": [
    "### Summary:\n",
    "Similarity:  \n",
    "- Both K-Means and Hierarchical clustering allow us to directly specify the number of desired clusters.\n",
    "- They both can be used on large, real-world datasets, are relatively easy to understand, and allow for clustering into many clusters.  \n",
    "\n",
    "Difference:  \n",
    "- K-Means allows for a characterization of the clusters using the cluster means. It can also be viewed as a decomposition method, where each data point is represented by its cluster center.\n",
    "- Hierarchical clustering can provide a whole hierarchy of possible partitions of the data, which can be easily inspected via dendrograms.  "
   ]
  },
  {
   "cell_type": "markdown",
   "id": "8f2c6a32",
   "metadata": {},
   "source": [
    "### 3. Use Principal Components Analysis to reduce the dimensions of your data. How much of the variation in your data is explained by the first two principal components. How might you use the first two components to do supervised learning on some other variable tied to wine (e.g. - wine price)?"
   ]
  },
  {
   "cell_type": "code",
   "execution_count": 12,
   "id": "f42f852f",
   "metadata": {},
   "outputs": [
    {
     "name": "stdout",
     "output_type": "stream",
     "text": [
      "original shape:    (1599, 12)\n",
      "transformed shape: (1599, 2)\n"
     ]
    }
   ],
   "source": [
    "from sklearn.decomposition import PCA\n",
    "\n",
    "X2 = pd.DataFrame(X_scaled, index=red.index, columns=red.columns)\n",
    "pca = PCA(n_components = 2).fit(X2)\n",
    "X_pca = pca.transform(X2)\n",
    "print(\"original shape:   \", X2.shape)\n",
    "print(\"transformed shape:\", X_pca.shape)"
   ]
  },
  {
   "cell_type": "code",
   "execution_count": 13,
   "id": "1f7ff146",
   "metadata": {},
   "outputs": [
    {
     "data": {
      "text/plain": [
       "array([3.12312087, 2.24328497])"
      ]
     },
     "execution_count": 13,
     "metadata": {},
     "output_type": "execute_result"
    }
   ],
   "source": [
    "pca.explained_variance_"
   ]
  },
  {
   "cell_type": "code",
   "execution_count": 14,
   "id": "f0e859f0",
   "metadata": {},
   "outputs": [
    {
     "data": {
      "text/plain": [
       "array([0.26009731, 0.1868235 ])"
      ]
     },
     "execution_count": 14,
     "metadata": {},
     "output_type": "execute_result"
    }
   ],
   "source": [
    "pca.explained_variance_ratio_"
   ]
  },
  {
   "cell_type": "code",
   "execution_count": 15,
   "id": "c5698f65",
   "metadata": {},
   "outputs": [
    {
     "name": "stdout",
     "output_type": "stream",
     "text": [
      "0.44692081000000006\n"
     ]
    }
   ],
   "source": [
    "print(0.26009731+0.1868235)"
   ]
  },
  {
   "cell_type": "code",
   "execution_count": 16,
   "id": "bfc24edf",
   "metadata": {},
   "outputs": [
    {
     "data": {
      "image/png": "[encoded data removed]",
      "text/plain": [
       "<Figure size 432x288 with 1 Axes>"
      ]
     },
     "metadata": {
      "needs_background": "light"
     },
     "output_type": "display_data"
    }
   ],
   "source": [
    "pca = PCA().fit(X2)\n",
    "plt.plot(np.cumsum(pca.explained_variance_ratio_))\n",
    "plt.xlabel('number of components')\n",
    "plt.ylabel('cumulative explained variance');"
   ]
  },
  {
   "cell_type": "markdown",
   "id": "d5540514",
   "metadata": {},
   "source": [
    "- Around 44.7% of the variation in your data is explained by the first two principal components.\n",
    "- We could use the two components as the X, some other variables tied to wine as the y, then split the X, y into training set and testing set. Then choose suitable models to do supervised learning on it."
   ]
  }
 ],
 "metadata": {
  "kernelspec": {
   "display_name": "Python 3 (ipykernel)",
   "language": "python",
   "name": "python3"
  },
  "language_info": {
   "codemirror_mode": {
    "name": "ipython",
    "version": 3
   },
   "file_extension": ".py",
   "mimetype": "text/x-python",
   "name": "python",
   "nbconvert_exporter": "python",
   "pygments_lexer": "ipython3",
   "version": "3.9.7"
  }
 },
 "nbformat": 4,
 "nbformat_minor": 5
}
