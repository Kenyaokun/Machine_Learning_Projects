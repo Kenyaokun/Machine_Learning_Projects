{
 "cells": [
  {
   "cell_type": "markdown",
   "metadata": {},
   "source": [
    "## Text_Analysis"
   ]
  },
  {
   "cell_type": "markdown",
   "metadata": {
    "id": "woqwZLQAnSK3"
   },
   "source": [
    "**Part 1: Build a classification model using text data**\n",
    "\n",
    "In part one of the homework, you will solve a text classification task.\n",
    "\n",
    "You can download the following clickbait data-sets from the aimodelshare library:\n"
   ]
  },
  {
   "cell_type": "code",
   "execution_count": 1,
   "metadata": {
    "colab": {
     "base_uri": "https://localhost:8080/"
    },
    "id": "ylUNvSBG_mij",
    "outputId": "5fae5b90-7ade-4600-b086-4b93c069c6f9"
   },
   "outputs": [
    {
     "name": "stdout",
     "output_type": "stream",
     "text": [
      "Requirement already satisfied: aimodelshare in /usr/local/lib/python3.7/dist-packages (0.0.59)\n",
      "Requirement already satisfied: Pympler==0.9 in /usr/local/lib/python3.7/dist-packages (from aimodelshare) (0.9)\n",
      "Requirement already satisfied: astunparse==1.6.3 in /usr/local/lib/python3.7/dist-packages (from aimodelshare) (1.6.3)\n",
      "Requirement already satisfied: urllib3==1.25.11 in /usr/local/lib/python3.7/dist-packages (from aimodelshare) (1.25.11)\n",
      "Requirement already satisfied: boto3==1.18.2 in /usr/local/lib/python3.7/dist-packages (from aimodelshare) (1.18.2)\n",
      "Requirement already satisfied: onnxmltools>=1.6.1 in /usr/local/lib/python3.7/dist-packages (from aimodelshare) (1.10.0)\n",
      "Requirement already satisfied: onnx>=1.9.0 in /usr/local/lib/python3.7/dist-packages (from aimodelshare) (1.10.2)\n",
      "Requirement already satisfied: onnxconverter-common>=1.7.0 in /usr/local/lib/python3.7/dist-packages (from aimodelshare) (1.9.0)\n",
      "Requirement already satisfied: PyJWT==2.2.0 in /usr/local/lib/python3.7/dist-packages (from aimodelshare) (2.2.0)\n",
      "Requirement already satisfied: keras2onnx>=1.7.0 in /usr/local/lib/python3.7/dist-packages (from aimodelshare) (1.7.0)\n",
      "Requirement already satisfied: docker==5.0.0 in /usr/local/lib/python3.7/dist-packages (from aimodelshare) (5.0.0)\n",
      "Requirement already satisfied: xgboost>=0.90 in /usr/local/lib/python3.7/dist-packages (from aimodelshare) (0.90)\n",
      "Requirement already satisfied: torch>=1.8.1 in /usr/local/lib/python3.7/dist-packages (from aimodelshare) (1.10.0+cu111)\n",
      "Requirement already satisfied: onnxruntime>=1.7.0 in /usr/local/lib/python3.7/dist-packages (from aimodelshare) (1.10.0)\n",
      "Requirement already satisfied: shortuuid>=1.0.8 in /usr/local/lib/python3.7/dist-packages (from aimodelshare) (1.0.8)\n",
      "Requirement already satisfied: scikit-learn==0.24.2 in /usr/local/lib/python3.7/dist-packages (from aimodelshare) (0.24.2)\n",
      "Requirement already satisfied: skl2onnx>=1.8.0 in /usr/local/lib/python3.7/dist-packages (from aimodelshare) (1.10.3)\n",
      "Requirement already satisfied: tensorflow>=2.5.0 in /usr/local/lib/python3.7/dist-packages (from aimodelshare) (2.7.0)\n",
      "Requirement already satisfied: botocore==1.21.2 in /usr/local/lib/python3.7/dist-packages (from aimodelshare) (1.21.2)\n",
      "Requirement already satisfied: wget==3.2 in /usr/local/lib/python3.7/dist-packages (from aimodelshare) (3.2)\n",
      "Requirement already satisfied: tf2onnx in /usr/local/lib/python3.7/dist-packages (from aimodelshare) (1.9.3)\n",
      "Requirement already satisfied: seaborn>=0.11.2 in /usr/local/lib/python3.7/dist-packages (from aimodelshare) (0.11.2)\n",
      "Requirement already satisfied: wheel<1.0,>=0.23.0 in /usr/local/lib/python3.7/dist-packages (from astunparse==1.6.3->aimodelshare) (0.37.0)\n",
      "Requirement already satisfied: six<2.0,>=1.6.1 in /usr/local/lib/python3.7/dist-packages (from astunparse==1.6.3->aimodelshare) (1.15.0)\n",
      "Requirement already satisfied: jmespath<1.0.0,>=0.7.1 in /usr/local/lib/python3.7/dist-packages (from boto3==1.18.2->aimodelshare) (0.10.0)\n",
      "Requirement already satisfied: s3transfer<0.6.0,>=0.5.0 in /usr/local/lib/python3.7/dist-packages (from boto3==1.18.2->aimodelshare) (0.5.0)\n",
      "Requirement already satisfied: python-dateutil<3.0.0,>=2.1 in /usr/local/lib/python3.7/dist-packages (from botocore==1.21.2->aimodelshare) (2.8.2)\n",
      "Requirement already satisfied: websocket-client>=0.32.0 in /usr/local/lib/python3.7/dist-packages (from docker==5.0.0->aimodelshare) (1.2.3)\n",
      "Requirement already satisfied: requests!=2.18.0,>=2.14.2 in /usr/local/lib/python3.7/dist-packages (from docker==5.0.0->aimodelshare) (2.23.0)\n",
      "Requirement already satisfied: threadpoolctl>=2.0.0 in /usr/local/lib/python3.7/dist-packages (from scikit-learn==0.24.2->aimodelshare) (3.0.0)\n",
      "Requirement already satisfied: joblib>=0.11 in /usr/local/lib/python3.7/dist-packages (from scikit-learn==0.24.2->aimodelshare) (1.1.0)\n",
      "Requirement already satisfied: scipy>=0.19.1 in /usr/local/lib/python3.7/dist-packages (from scikit-learn==0.24.2->aimodelshare) (1.4.1)\n",
      "Requirement already satisfied: numpy>=1.13.3 in /usr/local/lib/python3.7/dist-packages (from scikit-learn==0.24.2->aimodelshare) (1.19.5)\n",
      "Requirement already satisfied: protobuf in /usr/local/lib/python3.7/dist-packages (from keras2onnx>=1.7.0->aimodelshare) (3.17.3)\n",
      "Requirement already satisfied: fire in /usr/local/lib/python3.7/dist-packages (from keras2onnx>=1.7.0->aimodelshare) (0.4.0)\n",
      "Requirement already satisfied: typing-extensions>=3.6.2.1 in /usr/local/lib/python3.7/dist-packages (from onnx>=1.9.0->aimodelshare) (3.10.0.2)\n",
      "Requirement already satisfied: flatbuffers in /usr/local/lib/python3.7/dist-packages (from onnxruntime>=1.7.0->aimodelshare) (1.12)\n",
      "Requirement already satisfied: idna<3,>=2.5 in /usr/local/lib/python3.7/dist-packages (from requests!=2.18.0,>=2.14.2->docker==5.0.0->aimodelshare) (2.10)\n",
      "Requirement already satisfied: chardet<4,>=3.0.2 in /usr/local/lib/python3.7/dist-packages (from requests!=2.18.0,>=2.14.2->docker==5.0.0->aimodelshare) (3.0.4)\n",
      "Requirement already satisfied: certifi>=2017.4.17 in /usr/local/lib/python3.7/dist-packages (from requests!=2.18.0,>=2.14.2->docker==5.0.0->aimodelshare) (2021.10.8)\n",
      "Requirement already satisfied: pandas>=0.23 in /usr/local/lib/python3.7/dist-packages (from seaborn>=0.11.2->aimodelshare) (1.1.5)\n",
      "Requirement already satisfied: matplotlib>=2.2 in /usr/local/lib/python3.7/dist-packages (from seaborn>=0.11.2->aimodelshare) (3.2.2)\n",
      "Requirement already satisfied: cycler>=0.10 in /usr/local/lib/python3.7/dist-packages (from matplotlib>=2.2->seaborn>=0.11.2->aimodelshare) (0.11.0)\n",
      "Requirement already satisfied: pyparsing!=2.0.4,!=2.1.2,!=2.1.6,>=2.0.1 in /usr/local/lib/python3.7/dist-packages (from matplotlib>=2.2->seaborn>=0.11.2->aimodelshare) (3.0.6)\n",
      "Requirement already satisfied: kiwisolver>=1.0.1 in /usr/local/lib/python3.7/dist-packages (from matplotlib>=2.2->seaborn>=0.11.2->aimodelshare) (1.3.2)\n",
      "Requirement already satisfied: pytz>=2017.2 in /usr/local/lib/python3.7/dist-packages (from pandas>=0.23->seaborn>=0.11.2->aimodelshare) (2018.9)\n",
      "Requirement already satisfied: termcolor>=1.1.0 in /usr/local/lib/python3.7/dist-packages (from tensorflow>=2.5.0->aimodelshare) (1.1.0)\n",
      "Requirement already satisfied: gast<0.5.0,>=0.2.1 in /usr/local/lib/python3.7/dist-packages (from tensorflow>=2.5.0->aimodelshare) (0.4.0)\n",
      "Requirement already satisfied: keras-preprocessing>=1.1.1 in /usr/local/lib/python3.7/dist-packages (from tensorflow>=2.5.0->aimodelshare) (1.1.2)\n",
      "Requirement already satisfied: keras<2.8,>=2.7.0rc0 in /usr/local/lib/python3.7/dist-packages (from tensorflow>=2.5.0->aimodelshare) (2.7.0)\n",
      "Requirement already satisfied: tensorflow-estimator<2.8,~=2.7.0rc0 in /usr/local/lib/python3.7/dist-packages (from tensorflow>=2.5.0->aimodelshare) (2.7.0)\n",
      "Requirement already satisfied: absl-py>=0.4.0 in /usr/local/lib/python3.7/dist-packages (from tensorflow>=2.5.0->aimodelshare) (0.12.0)\n",
      "Requirement already satisfied: tensorboard~=2.6 in /usr/local/lib/python3.7/dist-packages (from tensorflow>=2.5.0->aimodelshare) (2.7.0)\n",
      "Requirement already satisfied: google-pasta>=0.1.1 in /usr/local/lib/python3.7/dist-packages (from tensorflow>=2.5.0->aimodelshare) (0.2.0)\n",
      "Requirement already satisfied: libclang>=9.0.1 in /usr/local/lib/python3.7/dist-packages (from tensorflow>=2.5.0->aimodelshare) (12.0.0)\n",
      "Requirement already satisfied: tensorflow-io-gcs-filesystem>=0.21.0 in /usr/local/lib/python3.7/dist-packages (from tensorflow>=2.5.0->aimodelshare) (0.22.0)\n",
      "Requirement already satisfied: wrapt>=1.11.0 in /usr/local/lib/python3.7/dist-packages (from tensorflow>=2.5.0->aimodelshare) (1.13.3)\n",
      "Requirement already satisfied: opt-einsum>=2.3.2 in /usr/local/lib/python3.7/dist-packages (from tensorflow>=2.5.0->aimodelshare) (3.3.0)\n",
      "Requirement already satisfied: h5py>=2.9.0 in /usr/local/lib/python3.7/dist-packages (from tensorflow>=2.5.0->aimodelshare) (3.1.0)\n",
      "Requirement already satisfied: grpcio<2.0,>=1.24.3 in /usr/local/lib/python3.7/dist-packages (from tensorflow>=2.5.0->aimodelshare) (1.42.0)\n",
      "Requirement already satisfied: cached-property in /usr/local/lib/python3.7/dist-packages (from h5py>=2.9.0->tensorflow>=2.5.0->aimodelshare) (1.5.2)\n",
      "Requirement already satisfied: markdown>=2.6.8 in /usr/local/lib/python3.7/dist-packages (from tensorboard~=2.6->tensorflow>=2.5.0->aimodelshare) (3.3.6)\n",
      "Requirement already satisfied: google-auth<3,>=1.6.3 in /usr/local/lib/python3.7/dist-packages (from tensorboard~=2.6->tensorflow>=2.5.0->aimodelshare) (1.35.0)\n",
      "Requirement already satisfied: tensorboard-data-server<0.7.0,>=0.6.0 in /usr/local/lib/python3.7/dist-packages (from tensorboard~=2.6->tensorflow>=2.5.0->aimodelshare) (0.6.1)\n",
      "Requirement already satisfied: tensorboard-plugin-wit>=1.6.0 in /usr/local/lib/python3.7/dist-packages (from tensorboard~=2.6->tensorflow>=2.5.0->aimodelshare) (1.8.0)\n",
      "Requirement already satisfied: setuptools>=41.0.0 in /usr/local/lib/python3.7/dist-packages (from tensorboard~=2.6->tensorflow>=2.5.0->aimodelshare) (57.4.0)\n",
      "Requirement already satisfied: werkzeug>=0.11.15 in /usr/local/lib/python3.7/dist-packages (from tensorboard~=2.6->tensorflow>=2.5.0->aimodelshare) (1.0.1)\n",
      "Requirement already satisfied: google-auth-oauthlib<0.5,>=0.4.1 in /usr/local/lib/python3.7/dist-packages (from tensorboard~=2.6->tensorflow>=2.5.0->aimodelshare) (0.4.6)\n",
      "Requirement already satisfied: pyasn1-modules>=0.2.1 in /usr/local/lib/python3.7/dist-packages (from google-auth<3,>=1.6.3->tensorboard~=2.6->tensorflow>=2.5.0->aimodelshare) (0.2.8)\n",
      "Requirement already satisfied: cachetools<5.0,>=2.0.0 in /usr/local/lib/python3.7/dist-packages (from google-auth<3,>=1.6.3->tensorboard~=2.6->tensorflow>=2.5.0->aimodelshare) (4.2.4)\n",
      "Requirement already satisfied: rsa<5,>=3.1.4 in /usr/local/lib/python3.7/dist-packages (from google-auth<3,>=1.6.3->tensorboard~=2.6->tensorflow>=2.5.0->aimodelshare) (4.8)\n",
      "Requirement already satisfied: requests-oauthlib>=0.7.0 in /usr/local/lib/python3.7/dist-packages (from google-auth-oauthlib<0.5,>=0.4.1->tensorboard~=2.6->tensorflow>=2.5.0->aimodelshare) (1.3.0)\n",
      "Requirement already satisfied: importlib-metadata>=4.4 in /usr/local/lib/python3.7/dist-packages (from markdown>=2.6.8->tensorboard~=2.6->tensorflow>=2.5.0->aimodelshare) (4.8.2)\n",
      "Requirement already satisfied: zipp>=0.5 in /usr/local/lib/python3.7/dist-packages (from importlib-metadata>=4.4->markdown>=2.6.8->tensorboard~=2.6->tensorflow>=2.5.0->aimodelshare) (3.6.0)\n",
      "Requirement already satisfied: pyasn1<0.5.0,>=0.4.6 in /usr/local/lib/python3.7/dist-packages (from pyasn1-modules>=0.2.1->google-auth<3,>=1.6.3->tensorboard~=2.6->tensorflow>=2.5.0->aimodelshare) (0.4.8)\n",
      "Requirement already satisfied: oauthlib>=3.0.0 in /usr/local/lib/python3.7/dist-packages (from requests-oauthlib>=0.7.0->google-auth-oauthlib<0.5,>=0.4.1->tensorboard~=2.6->tensorflow>=2.5.0->aimodelshare) (3.1.1)\n"
     ]
    }
   ],
   "source": [
    "pip install aimodelshare"
   ]
  },
  {
   "cell_type": "code",
   "execution_count": 2,
   "metadata": {
    "colab": {
     "base_uri": "https://localhost:8080/"
    },
    "id": "pl-BHmcmlv-b",
    "outputId": "b799aa8d-4c59-4e95-d5ec-4a233e341729"
   },
   "outputs": [
    {
     "name": "stdout",
     "output_type": "stream",
     "text": [
      "Downloading [==============================================>  ]\n",
      "\n",
      "Data downloaded successfully.\n",
      "\n",
      "Preparing downloaded files for use...\n",
      "\n",
      "Success! Your Quick Start materials have been downloaded. \n",
      "You are now ready to run the tutorial.\n"
     ]
    }
   ],
   "source": [
    "import aimodelshare as ai\n",
    "X_train, X_test, y_train_labels, y_test_labels, example_data, lstm_model, lstm_model2 = ai.import_quickstart_data(\"clickbait\")"
   ]
  },
  {
   "cell_type": "markdown",
   "metadata": {
    "id": "ZVeP1bNQnirC"
   },
   "source": [
    "The data consists of headlines that signify clickbait or not.  Training and test data are stored in the following objects: X_train, X_test, y_train_labels, y_test_labels.  The remaining objects can be ignored.\n",
    "\n",
    "In a real application this might allow us to find out what is hard news information (or perhaps to choose among headlines that are more likely to be clicked).\n",
    "\n",
    "Use cross-validation to evaluate the results. Use a robust metric for classification  (AUC or F1-Score for example), and inspect all models by visualizing the coefficients. (See helper function in our in class notebook for text models.)\n",
    "\n",
    "To complete part one of the homework do the following:"
   ]
  },
  {
   "cell_type": "markdown",
   "metadata": {
    "id": "NCKeH1tfnpt5"
   },
   "source": [
    "**Import the text data, vectorize the clickbait headline column into an X matrix.  Then run logistic regression at least three times and select a single best model.  Note that you should create three logistic regression models with different tokenization approaches.  You should not change your modeling approach, you should simply experiment with different tokenizers. Be sure to explain your choices and evaluate your models using cross validation and using test set data.**"
   ]
  },
  {
   "cell_type": "code",
   "execution_count": 3,
   "metadata": {
    "id": "01ZZySWpu_MY"
   },
   "outputs": [],
   "source": [
    "import warnings\n",
    "warnings.filterwarnings(\"ignore\")"
   ]
  },
  {
   "cell_type": "code",
   "execution_count": 4,
   "metadata": {
    "id": "M60VQxnkCXmn"
   },
   "outputs": [],
   "source": [
    "y_train = y_train_labels.apply(lambda x: 1 if x == 'clickbait' else 0)\n",
    "y_test = y_test_labels.apply(lambda x: 1 if x == 'clickbait' else 0)"
   ]
  },
  {
   "cell_type": "code",
   "execution_count": 5,
   "metadata": {
    "id": "Lj4_2VOomtB4"
   },
   "outputs": [],
   "source": [
    "#No tokenizer - Original\n",
    "from sklearn.feature_extraction.text import CountVectorizer \n",
    "vect = CountVectorizer()\n",
    "X_trans = vect.fit_transform(X_train)\n",
    "X_test_trans = vect.transform(X_test)"
   ]
  },
  {
   "cell_type": "code",
   "execution_count": 6,
   "metadata": {
    "colab": {
     "base_uri": "https://localhost:8080/"
    },
    "id": "Z9Tznj05ocFR",
    "outputId": "be3dcff9-16da-42e3-f89e-9174dfab93e4"
   },
   "outputs": [
    {
     "name": "stdout",
     "output_type": "stream",
     "text": [
      "Mean cross-validation accuracy: 0.95\n",
      "The test f1 score:0.97\n",
      "The test AUC score:0.97\n"
     ]
    }
   ],
   "source": [
    "from sklearn.model_selection import cross_val_score\n",
    "from sklearn.linear_model import LogisticRegression\n",
    "from sklearn.metrics import f1_score\n",
    "from sklearn import metrics\n",
    "import numpy as np\n",
    "\n",
    "logistic = LogisticRegression().fit(X_trans, y_train)\n",
    "cv_log = cross_val_score(logistic, X_test_trans, y_test, cv=5, scoring='f1')\n",
    "f1_score0 = f1_score(logistic.predict(X_test_trans), y_test)\n",
    "fpr, tpr, thresholds = metrics.roc_curve(y_test, logistic.predict(X_test_trans))\n",
    "AUC0 = metrics.auc(fpr, tpr)\n",
    "\n",
    "print(\"Mean cross-validation accuracy: {:.2f}\".format(np.mean(cv_log)))\n",
    "print(\"The test f1 score:{:.2f}\".format(f1_score0))\n",
    "print(\"The test AUC score:{:.2f}\".format(AUC0))"
   ]
  },
  {
   "cell_type": "code",
   "execution_count": 7,
   "metadata": {
    "id": "HFxwY7GRDZZQ"
   },
   "outputs": [],
   "source": [
    "def visualize_coefficients(coefficients, feature_names, n_top_features=25):\n",
    "    coefficients = coefficients.squeeze()\n",
    "    if coefficients.ndim > 1:\n",
    "        # this is not a row or column vector\n",
    "        raise ValueError(\"coeffients must be 1d array or column vector, got\"\n",
    "                         \" shape {}\".format(coefficients.shape))\n",
    "    coefficients = coefficients.ravel()\n",
    "\n",
    "    if len(coefficients) != len(feature_names):\n",
    "        raise ValueError(\"Number of coefficients {} doesn't match number of\"\n",
    "                         \"feature names {}.\".format(len(coefficients),\n",
    "                                                    len(feature_names)))\n",
    "    # get coefficients with large absolute values\n",
    "    coef = coefficients.ravel()\n",
    "    positive_coefficients = np.argsort(coef)[-n_top_features:]\n",
    "    negative_coefficients = np.argsort(coef)[:n_top_features]\n",
    "    interesting_coefficients = np.hstack([negative_coefficients,\n",
    "                                          positive_coefficients])\n",
    "    # plot them\n",
    "    plt.figure(figsize=(15, 5))\n",
    "    colors = ['#ff2020' if c < 0 else '#0000aa'\n",
    "              for c in coef[interesting_coefficients]]\n",
    "    plt.bar(np.arange(2 * n_top_features), coef[interesting_coefficients],\n",
    "            color=colors)\n",
    "    feature_names = np.array(feature_names)\n",
    "    plt.subplots_adjust(bottom=0.3)\n",
    "    plt.xticks(np.arange(1, 1 + 2 * n_top_features),\n",
    "               feature_names[interesting_coefficients], rotation=60,\n",
    "               ha=\"right\")\n",
    "    plt.ylabel(\"Coefficient magnitude\")\n",
    "    plt.xlabel(\"Feature\")\n"
   ]
  },
  {
   "cell_type": "code",
   "execution_count": 8,
   "metadata": {
    "colab": {
     "base_uri": "https://localhost:8080/",
     "height": 309
    },
    "id": "rbfAUGObHCcp",
    "outputId": "28e7a91a-ec3a-4e51-d6e9-6906f2e863d9"
   },
   "outputs": [
    {
     "data": {
      "image/png": "[encoded data removed]",
      "text/plain": [
       "<Figure size 1080x360 with 1 Axes>"
      ]
     },
     "metadata": {
      "needs_background": "light"
     },
     "output_type": "display_data"
    }
   ],
   "source": [
    "import matplotlib.pyplot as plt\n",
    "coefs = LogisticRegression(C=0.01).fit(X_trans,y_train_labels).coef_\n",
    "feature_names = vect.fit(X_train).get_feature_names()\n",
    "visualize_coefficients(coefs, feature_names, n_top_features=15)"
   ]
  },
  {
   "cell_type": "code",
   "execution_count": 9,
   "metadata": {
    "colab": {
     "base_uri": "https://localhost:8080/"
    },
    "id": "Yl3fZUvDkHNO",
    "outputId": "095835fc-7b60-49b3-bb48-61ce801a4407"
   },
   "outputs": [
    {
     "name": "stdout",
     "output_type": "stream",
     "text": [
      "[nltk_data] Downloading package punkt to /root/nltk_data...\n",
      "[nltk_data]   Package punkt is already up-to-date!\n",
      "[nltk_data] Downloading package wordnet to /root/nltk_data...\n",
      "[nltk_data]   Package wordnet is already up-to-date!\n"
     ]
    }
   ],
   "source": [
    "#Model 1 - Tokenizer1 - LemmaTokenizer\n",
    "import nltk\n",
    "nltk.download('punkt')\n",
    "nltk.download('wordnet')\n",
    "from nltk import word_tokenize          \n",
    "from nltk.stem import WordNetLemmatizer \n",
    "\n",
    "class LemmaTokenizer(object):\n",
    "    def __init__(self):\n",
    "        self.wnl = WordNetLemmatizer()\n",
    "    def __call__(self, doc):\n",
    "        return [self.wnl.lemmatize(t) for t in word_tokenize(doc)]\n",
    "\n",
    "lemma_vect = CountVectorizer(tokenizer=LemmaTokenizer())\n",
    "X_trans1 = lemma_vect.fit_transform(X_train)\n",
    "X_test_trans1 = lemma_vect.transform(X_test)"
   ]
  },
  {
   "cell_type": "code",
   "execution_count": 10,
   "metadata": {
    "colab": {
     "base_uri": "https://localhost:8080/"
    },
    "id": "fMYybGc3sb4B",
    "outputId": "98cb77cc-eda2-4073-d3be-4a607d05d0a2"
   },
   "outputs": [
    {
     "name": "stdout",
     "output_type": "stream",
     "text": [
      "Mean cross-validation accuracy: 0.96\n",
      "The test f1 score:0.98\n",
      "The test AUC score:0.98\n"
     ]
    }
   ],
   "source": [
    "from sklearn.model_selection import cross_val_score\n",
    "from sklearn.linear_model import LogisticRegression\n",
    "from sklearn.metrics import f1_score\n",
    "from sklearn import metrics\n",
    "import numpy as np\n",
    "\n",
    "logistic1 = LogisticRegression().fit(X_trans1, y_train)\n",
    "cv_log1 = cross_val_score(logistic1, X_test_trans1, y_test, cv=5, scoring='f1')\n",
    "f1_score1 = f1_score(logistic1.predict(X_test_trans1), y_test)\n",
    "fpr, tpr, thresholds = metrics.roc_curve(y_test, logistic1.predict(X_test_trans1))\n",
    "AUC1 = metrics.auc(fpr, tpr)\n",
    "\n",
    "print(\"Mean cross-validation accuracy: {:.2f}\".format(np.mean(cv_log1)))\n",
    "print(\"The test f1 score:{:.2f}\".format(f1_score1))\n",
    "print(\"The test AUC score:{:.2f}\".format(AUC1))"
   ]
  },
  {
   "cell_type": "code",
   "execution_count": 11,
   "metadata": {
    "colab": {
     "base_uri": "https://localhost:8080/",
     "height": 309
    },
    "id": "CmwDhU38Kp4T",
    "outputId": "44427dd9-6688-425f-ef9d-67fc48fc8ac0"
   },
   "outputs": [
    {
     "data": {
      "image/png": "[encoded data removed]",
      "text/plain": [
       "<Figure size 1080x360 with 1 Axes>"
      ]
     },
     "metadata": {
      "needs_background": "light"
     },
     "output_type": "display_data"
    }
   ],
   "source": [
    "import matplotlib.pyplot as plt\n",
    "coefs1 = LogisticRegression(C=0.01).fit(X_trans1,y_train).coef_\n",
    "feature_names1 = lemma_vect.fit(X_train).get_feature_names()\n",
    "visualize_coefficients(coefs1, feature_names1, n_top_features=15)"
   ]
  },
  {
   "cell_type": "code",
   "execution_count": 12,
   "metadata": {
    "id": "jZDN2CUBAkYh"
   },
   "outputs": [],
   "source": [
    "#Model 2 - Tokenizer2 - bags of words\n",
    "from sklearn.feature_extraction.text import CountVectorizer \n",
    "\n",
    "vect1 = CountVectorizer(ngram_range=(1,2), min_df=4, stop_words='english')\n",
    "X_trans2 = vect1.fit_transform(X_train)\n",
    "X_test_trans2 = vect1.transform(X_test)"
   ]
  },
  {
   "cell_type": "code",
   "execution_count": 13,
   "metadata": {
    "colab": {
     "base_uri": "https://localhost:8080/"
    },
    "id": "Twnuzyv9y31R",
    "outputId": "e60e1228-6538-44fe-ee3f-6b6ccc2731ab"
   },
   "outputs": [
    {
     "name": "stdout",
     "output_type": "stream",
     "text": [
      "Mean cross-validation accuracy: 0.92\n",
      "The test f1 score:0.95\n",
      "The test AUC score:0.95\n"
     ]
    }
   ],
   "source": [
    "from sklearn.model_selection import cross_val_score\n",
    "from sklearn.linear_model import LogisticRegression\n",
    "from sklearn.metrics import f1_score\n",
    "from sklearn import metrics\n",
    "import numpy as np\n",
    "\n",
    "logistic2 = LogisticRegression().fit(X_trans2, y_train)\n",
    "cv_log2 = cross_val_score(logistic2, X_test_trans2, y_test, cv=5, scoring='f1')\n",
    "f1_score2 = f1_score(logistic2.predict(X_test_trans2), y_test)\n",
    "fpr, tpr, thresholds = metrics.roc_curve(y_test, logistic2.predict(X_test_trans2))\n",
    "AUC2 = metrics.auc(fpr, tpr)\n",
    "\n",
    "print(\"Mean cross-validation accuracy: {:.2f}\".format(np.mean(cv_log2)))\n",
    "print(\"The test f1 score:{:.2f}\".format(f1_score2))\n",
    "print(\"The test AUC score:{:.2f}\".format(AUC2))"
   ]
  },
  {
   "cell_type": "code",
   "execution_count": 14,
   "metadata": {
    "colab": {
     "base_uri": "https://localhost:8080/",
     "height": 309
    },
    "id": "g9bj9np4Mefg",
    "outputId": "6299e535-57e1-49c9-8c7a-2f7a19dae0ac"
   },
   "outputs": [
    {
     "data": {
      "image/png": "[encoded data removed]",
      "text/plain": [
       "<Figure size 1080x360 with 1 Axes>"
      ]
     },
     "metadata": {
      "needs_background": "light"
     },
     "output_type": "display_data"
    }
   ],
   "source": [
    "import matplotlib.pyplot as plt\n",
    "coefs2 = LogisticRegression(C=0.01).fit(X_trans2,y_train).coef_\n",
    "feature_names2 = vect1.fit(X_train).get_feature_names()\n",
    "visualize_coefficients(coefs2, feature_names2, n_top_features=15)"
   ]
  },
  {
   "cell_type": "code",
   "execution_count": 15,
   "metadata": {
    "id": "qgPxwap_zWmq"
   },
   "outputs": [],
   "source": [
    "#Model 3 - Tokenizer3 - TF-IDF\n",
    "from sklearn.feature_extraction.text import TfidfVectorizer\n",
    "from sklearn.pipeline import make_pipeline\n",
    "\n",
    "tfidf = TfidfVectorizer()\n",
    "X_trans3 = tfidf.fit_transform(X_train)\n",
    "X_test_trans3 = tfidf.transform(X_test)"
   ]
  },
  {
   "cell_type": "code",
   "execution_count": 16,
   "metadata": {
    "colab": {
     "base_uri": "https://localhost:8080/"
    },
    "id": "PmTFEFCb0c_a",
    "outputId": "ed0c67ff-f4d8-4405-eb07-d0be852baa8f"
   },
   "outputs": [
    {
     "name": "stdout",
     "output_type": "stream",
     "text": [
      "Mean cross-validation accuracy: 0.94\n",
      "The test f1 score:0.97\n",
      "The test AUC score:0.97\n"
     ]
    }
   ],
   "source": [
    "from sklearn.model_selection import cross_val_score\n",
    "from sklearn.linear_model import LogisticRegression\n",
    "from sklearn.metrics import f1_score\n",
    "from sklearn import metrics\n",
    "import numpy as np\n",
    "\n",
    "logistic3 = LogisticRegression().fit(X_trans3, y_train)\n",
    "cv_log3 = cross_val_score(logistic3, X_test_trans3, y_test, cv=5, scoring='f1')\n",
    "f1_score3 = f1_score(logistic3.predict(X_test_trans3), y_test)\n",
    "fpr, tpr, thresholds = metrics.roc_curve(y_test, logistic3.predict(X_test_trans3))\n",
    "AUC3 = metrics.auc(fpr, tpr)\n",
    "\n",
    "print(\"Mean cross-validation accuracy: {:.2f}\".format(np.mean(cv_log3)))\n",
    "print(\"The test f1 score:{:.2f}\".format(f1_score3))\n",
    "print(\"The test AUC score:{:.2f}\".format(AUC3))"
   ]
  },
  {
   "cell_type": "code",
   "execution_count": 17,
   "metadata": {
    "colab": {
     "base_uri": "https://localhost:8080/",
     "height": 309
    },
    "id": "nXjoA0RwNwPH",
    "outputId": "bfb02258-c62a-46b7-8df8-b61b8b8df992"
   },
   "outputs": [
    {
     "data": {
      "image/png": "[encoded data removed]",
      "text/plain": [
       "<Figure size 1080x360 with 1 Axes>"
      ]
     },
     "metadata": {
      "needs_background": "light"
     },
     "output_type": "display_data"
    }
   ],
   "source": [
    "import matplotlib.pyplot as plt\n",
    "coefs3 = LogisticRegression(C=0.01).fit(X_trans3, y_train).coef_\n",
    "feature_names3 = tfidf.fit(X_train).get_feature_names()\n",
    "visualize_coefficients(coefs3, feature_names3, n_top_features=15)"
   ]
  },
  {
   "cell_type": "markdown",
   "metadata": {
    "id": "ymsQW4hh01mw"
   },
   "source": [
    "**Model Evaluation and conclusions:**  \n",
    "- As for the original model: The mean cross validation score is 0.95, the f1 score is 0.97 and the AUC score is 0.97.\n",
    "- As for the LemmaTokenizer: The mean cross validation score is 0.96, the f1 score is 0.98 and the AUC score is 0.98.\n",
    "- As for the bags of words: The mean cross validation score is 0.92, the f1 score is 0.95 and the AUC score is 0.95.\n",
    "- As for the Tf-idf: The mean cross validation score is 0.94, the f1 score is 0.97 and the AUC score is 0.97.\n",
    "\n",
    "**Above all, I would choose LemmaTokenizer as the tokenization method.**"
   ]
  },
  {
   "cell_type": "markdown",
   "metadata": {
    "id": "NwdOaIukB5jj"
   },
   "source": [
    "**Part 2: Build a predictive neural network using Keras**  \n",
    "To complete part two of the homework do the following:\n",
    "\n",
    "Run a multilayer perceptron (feed forward neural network) with two hidden layers on the iris dataset using the keras Sequential interface.\n",
    "\n",
    "Data can be imported via the following link:\n",
    "\n",
    "http://vincentarelbundock.github.io/Rdatasets/csv/datasets/iris.csv\n",
    "\n",
    "Include code for selecting the number of hidden units using GridSearchCV and evaluation on a test-set.  \n",
    "\n",
    "Describe the differences in the predictive accuracy of models with different numbers of hidden units.   \n",
    "\n",
    "Describe the predictive strength of your best model.  Be sure to explain your choice and evaluate this model using the test set."
   ]
  },
  {
   "cell_type": "code",
   "execution_count": 18,
   "metadata": {
    "colab": {
     "base_uri": "https://localhost:8080/",
     "height": 206
    },
    "id": "G0UtWkr771RQ",
    "outputId": "7aaeb51c-738d-4e2a-fb9c-413ba27bd2c1"
   },
   "outputs": [
    {
     "data": {
      "text/html": [
       "<div>\n",
       "<style scoped>\n",
       "    .dataframe tbody tr th:only-of-type {\n",
       "        vertical-align: middle;\n",
       "    }\n",
       "\n",
       "    .dataframe tbody tr th {\n",
       "        vertical-align: top;\n",
       "    }\n",
       "\n",
       "    .dataframe thead th {\n",
       "        text-align: right;\n",
       "    }\n",
       "</style>\n",
       "<table border=\"1\" class=\"dataframe\">\n",
       "  <thead>\n",
       "    <tr style=\"text-align: right;\">\n",
       "      <th></th>\n",
       "      <th>Unnamed: 0</th>\n",
       "      <th>Sepal.Length</th>\n",
       "      <th>Sepal.Width</th>\n",
       "      <th>Petal.Length</th>\n",
       "      <th>Petal.Width</th>\n",
       "      <th>Species</th>\n",
       "    </tr>\n",
       "  </thead>\n",
       "  <tbody>\n",
       "    <tr>\n",
       "      <th>0</th>\n",
       "      <td>1</td>\n",
       "      <td>5.1</td>\n",
       "      <td>3.5</td>\n",
       "      <td>1.4</td>\n",
       "      <td>0.2</td>\n",
       "      <td>setosa</td>\n",
       "    </tr>\n",
       "    <tr>\n",
       "      <th>1</th>\n",
       "      <td>2</td>\n",
       "      <td>4.9</td>\n",
       "      <td>3.0</td>\n",
       "      <td>1.4</td>\n",
       "      <td>0.2</td>\n",
       "      <td>setosa</td>\n",
       "    </tr>\n",
       "    <tr>\n",
       "      <th>2</th>\n",
       "      <td>3</td>\n",
       "      <td>4.7</td>\n",
       "      <td>3.2</td>\n",
       "      <td>1.3</td>\n",
       "      <td>0.2</td>\n",
       "      <td>setosa</td>\n",
       "    </tr>\n",
       "    <tr>\n",
       "      <th>3</th>\n",
       "      <td>4</td>\n",
       "      <td>4.6</td>\n",
       "      <td>3.1</td>\n",
       "      <td>1.5</td>\n",
       "      <td>0.2</td>\n",
       "      <td>setosa</td>\n",
       "    </tr>\n",
       "    <tr>\n",
       "      <th>4</th>\n",
       "      <td>5</td>\n",
       "      <td>5.0</td>\n",
       "      <td>3.6</td>\n",
       "      <td>1.4</td>\n",
       "      <td>0.2</td>\n",
       "      <td>setosa</td>\n",
       "    </tr>\n",
       "  </tbody>\n",
       "</table>\n",
       "</div>"
      ],
      "text/plain": [
       "   Unnamed: 0  Sepal.Length  Sepal.Width  Petal.Length  Petal.Width Species\n",
       "0           1           5.1          3.5           1.4          0.2  setosa\n",
       "1           2           4.9          3.0           1.4          0.2  setosa\n",
       "2           3           4.7          3.2           1.3          0.2  setosa\n",
       "3           4           4.6          3.1           1.5          0.2  setosa\n",
       "4           5           5.0          3.6           1.4          0.2  setosa"
      ]
     },
     "execution_count": 18,
     "metadata": {},
     "output_type": "execute_result"
    }
   ],
   "source": [
    "#load the dataset\n",
    "import pandas as pd\n",
    "\n",
    "data = pd.read_csv(\"iris.csv\")\n",
    "data.head()"
   ]
  },
  {
   "cell_type": "code",
   "execution_count": 19,
   "metadata": {
    "id": "azR1Nk8GGlhC"
   },
   "outputs": [],
   "source": [
    "#train_test_split data\n",
    "from sklearn.neural_network import MLPClassifier\n",
    "from sklearn.model_selection import train_test_split\n",
    "from sklearn.preprocessing import LabelEncoder\n",
    "\n",
    "iris = data.iloc[:,1:]\n",
    "X = iris.iloc[:, 0 : 4]\n",
    "y = LabelEncoder().fit_transform(iris['Species'])\n",
    "X_iris_train, X_iris_test, y_iris_train, y_iris_test = train_test_split(X, y, random_state = 42)"
   ]
  },
  {
   "cell_type": "code",
   "execution_count": 20,
   "metadata": {
    "colab": {
     "base_uri": "https://localhost:8080/"
    },
    "id": "d0v00aH6HviH",
    "outputId": "806ab1fb-157f-4103-f6c8-6a1f7bab1394"
   },
   "outputs": [
    {
     "name": "stdout",
     "output_type": "stream",
     "text": [
      "Best: 0.945850 using {'hiddennodes': 30}\n"
     ]
    }
   ],
   "source": [
    "#Run a multilayer perceptron with two hidden layers\n",
    "import numpy as np\n",
    "import pandas as pd\n",
    "from sklearn.model_selection import GridSearchCV\n",
    "from tensorflow.keras.models import Sequential\n",
    "from tensorflow.keras.wrappers.scikit_learn import KerasClassifier\n",
    "from tensorflow.keras.layers import Dense, Dropout, Activation\n",
    "from tensorflow.keras.optimizers import SGD\n",
    "\n",
    "def create_model(hiddennodes):\n",
    "    \n",
    "    model = Sequential()\n",
    "    model.add(Dense(hiddennodes, input_dim = 4, activation='relu'))\n",
    "    model.add(Dense(hiddennodes, activation='relu'))\n",
    "    model.add(Dense(3, activation='sigmoid'))\n",
    "\n",
    "    model.compile(loss='categorical_crossentropy', optimizer='sgd', metrics=['accuracy'])\n",
    "    return model\n",
    "\n",
    "model = KerasClassifier(build_fn=create_model, epochs=100, verbose=0) \n",
    "                                                                      \n",
    "\n",
    "param_grid = dict(hiddennodes=[5,10,20,30])\n",
    "grid = GridSearchCV(estimator=model, param_grid=param_grid)\n",
    "grid_result = grid.fit(X_iris_train, y_iris_train)\n",
    "\n",
    "print(\"Best: %f using %s\" % (grid_result.best_score_, grid_result.best_params_))"
   ]
  },
  {
   "cell_type": "code",
   "execution_count": 21,
   "metadata": {
    "colab": {
     "base_uri": "https://localhost:8080/"
    },
    "id": "CH4HsLJqa8QZ",
    "outputId": "aac3f36d-af53-4af0-d271-8380987d255d"
   },
   "outputs": [
    {
     "name": "stdout",
     "output_type": "stream",
     "text": [
      "0.9736842105263158\n",
      "0.8947368421052632\n",
      "0.868421052631579\n",
      "0.9736842105263158\n"
     ]
    }
   ],
   "source": [
    "#Evaluate on testing set\n",
    "from sklearn.metrics import accuracy_score\n",
    "\n",
    "model1 = KerasClassifier(build_fn= lambda: create_model(8), epochs=100, verbose=0)\n",
    "model1.fit(X_iris_train,y_iris_train)\n",
    "print(accuracy_score(y_iris_test, model1.predict(X_iris_test)))\n",
    "\n",
    "model2 = KerasClassifier(build_fn= lambda: create_model(12), epochs=100, verbose=0)\n",
    "model2.fit(X_iris_train,y_iris_train)\n",
    "print(accuracy_score(y_iris_test, model2.predict(X_iris_test)))\n",
    "\n",
    "model3 = KerasClassifier(build_fn= lambda: create_model(16), epochs=100, verbose=0)\n",
    "model3.fit(X_iris_train,y_iris_train)\n",
    "print(accuracy_score(y_iris_test, model3.predict(X_iris_test)))\n",
    "\n",
    "model4 = KerasClassifier(build_fn= lambda: create_model(20), epochs=100, verbose=0)\n",
    "model4.fit(X_iris_train,y_iris_train)\n",
    "print(accuracy_score(y_iris_test, model4.predict(X_iris_test)))"
   ]
  },
  {
   "cell_type": "markdown",
   "metadata": {
    "id": "6fmXNRp2aTHd"
   },
   "source": [
    "**Model evaluation**\n",
    "- As for the training data set, we could see from the result, when the hidden units equal to 30, the score would be the highest: 0.946.\n",
    "- As for the testing dataset, when the hidden units equal to 5, the accuracy is around 0.974; when the hidden units equal to 10, the accuracy is around 0.895; when the hidden units equal to 20, the accuracy is around 0.868; when the hidden units equal to 30, the accuracy is around 0.974.\n",
    "- I would choose 30 as my hidden units for this model. Because it gets the highest score in the training set as well as in the testing set."
   ]
  }
 ],
 "metadata": {
  "colab": {
   "collapsed_sections": [],
   "name": "hw04 - Kun Yao.ipynb",
   "provenance": []
  },
  "kernelspec": {
   "display_name": "Python 3 (ipykernel)",
   "language": "python",
   "name": "python3"
  },
  "language_info": {
   "codemirror_mode": {
    "name": "ipython",
    "version": 3
   },
   "file_extension": ".py",
   "mimetype": "text/x-python",
   "name": "python",
   "nbconvert_exporter": "python",
   "pygments_lexer": "ipython3",
   "version": "3.9.7"
  }
 },
 "nbformat": 4,
 "nbformat_minor": 1
}
